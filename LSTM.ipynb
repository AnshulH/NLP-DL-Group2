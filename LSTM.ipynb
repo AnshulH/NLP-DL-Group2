{
  "cells": [
    {
      "cell_type": "markdown",
      "metadata": {
        "id": "view-in-github",
        "colab_type": "text"
      },
      "source": [
        "<a href=\"https://colab.research.google.com/github/AnshulH/NLP-DL-Group2/blob/lstm/LSTM.ipynb\" target=\"_parent\"><img src=\"https://colab.research.google.com/assets/colab-badge.svg\" alt=\"Open In Colab\"/></a>"
      ]
    },
    {
      "cell_type": "code",
      "execution_count": null,
      "metadata": {
        "colab": {
          "base_uri": "https://localhost:8080/"
        },
        "id": "gi1PuVNx4ao-",
        "outputId": "39f9fc60-37d9-4fb5-82ac-a7e4183801f4"
      },
      "outputs": [
        {
          "name": "stdout",
          "output_type": "stream",
          "text": [
            "Cloning into 'NLP-DL-Group2'...\n",
            "remote: Enumerating objects: 120, done.\u001b[K\n",
            "remote: Counting objects: 100% (74/74), done.\u001b[K\n",
            "remote: Compressing objects: 100% (67/67), done.\u001b[K\n",
            "remote: Total 120 (delta 35), reused 18 (delta 5), pack-reused 46\u001b[K\n",
            "Receiving objects: 100% (120/120), 30.93 MiB | 18.04 MiB/s, done.\n",
            "Resolving deltas: 100% (54/54), done.\n"
          ]
        }
      ],
      "source": [
        "!rm -r /content/NLP-DL-Group2/\n",
        "!cd /content && git clone https://github.com/AnshulH/NLP-DL-Group2"
      ]
    },
    {
      "cell_type": "code",
      "execution_count": null,
      "metadata": {
        "colab": {
          "base_uri": "https://localhost:8080/"
        },
        "id": "9xI8qgF_4quC",
        "outputId": "ae53c19a-db86-48c9-e62f-7f4452ad0ef0"
      },
      "outputs": [
        {
          "name": "stderr",
          "output_type": "stream",
          "text": [
            "[nltk_data] Downloading package stopwords to /root/nltk_data...\n",
            "[nltk_data]   Package stopwords is already up-to-date!\n",
            "[nltk_data] Downloading package words to /root/nltk_data...\n",
            "[nltk_data]   Package words is already up-to-date!\n",
            "[nltk_data] Downloading package punkt to /root/nltk_data...\n",
            "[nltk_data]   Package punkt is already up-to-date!\n"
          ]
        },
        {
          "data": {
            "text/plain": [
              "True"
            ]
          },
          "execution_count": 130,
          "metadata": {},
          "output_type": "execute_result"
        }
      ],
      "source": [
        "from nltk import word_tokenize\n",
        "from nltk.corpus import stopwords\n",
        "from nltk.corpus import words # added for detecting English words\n",
        "import string\n",
        "import nltk\n",
        "import calendar\n",
        "import re\n",
        "import torch\n",
        "import torch.nn.functional as F\n",
        "import torch.nn as nn\n",
        "import torch.optim as optim\n",
        "import math\n",
        "import time\n",
        "import numpy as np\n",
        "import sys\n",
        "import argparse\n",
        "import os\n",
        "\n",
        "nltk.download('stopwords')\n",
        "nltk.download('words')\n",
        "nltk.download('punkt')"
      ]
    },
    {
      "cell_type": "code",
      "execution_count": null,
      "metadata": {
        "colab": {
          "base_uri": "https://localhost:8080/"
        },
        "id": "DlVZH18a4u2F",
        "outputId": "873be7fc-6788-44bc-8644-7019a0c7b683"
      },
      "outputs": [
        {
          "data": {
            "text/plain": [
              "device(type='cpu')"
            ]
          },
          "execution_count": 131,
          "metadata": {},
          "output_type": "execute_result"
        }
      ],
      "source": [
        "device = torch.device('cuda' if torch.cuda.is_available() else 'cpu')\n",
        "torch.manual_seed(0)\n",
        "device"
      ]
    },
    {
      "cell_type": "code",
      "execution_count": null,
      "metadata": {
        "id": "oVK7KgCM41qR"
      },
      "outputs": [],
      "source": [
        "def decode(vocab,corpus):\n",
        "    \n",
        "    text = ''\n",
        "    for i in range(len(corpus)):\n",
        "        wID = corpus[i]\n",
        "        text = text + vocab[wID] + ' '\n",
        "    return(text)\n",
        "\n",
        "def encode(words,text):\n",
        "    corpus = []\n",
        "    tokens = text.split(' ')\n",
        "    for t in tokens:\n",
        "        try:\n",
        "            wID = words[t][0]\n",
        "        except:\n",
        "            wID = words['<unk>'][0]\n",
        "        corpus.append(wID)\n",
        "    return(corpus)\n",
        "\n",
        "def read_encode(file_name,vocab,words,corpus,threshold):\n",
        "    \n",
        "    wID = len(vocab)\n",
        "    if threshold > -1:\n",
        "        with open(file_name,'rt') as f:\n",
        "            for line in f:\n",
        "                line = line.replace('\\n','')\n",
        "                tokens = line.split(' ')\n",
        "                for t in tokens:\n",
        "                    try:\n",
        "                        elem = words[t]\n",
        "                    except:\n",
        "                        elem = [wID,0]\n",
        "                        vocab.append(t)\n",
        "                        wID = wID + 1\n",
        "                    elem[1] = elem[1] + 1\n",
        "                    words[t] = elem\n",
        "\n",
        "        temp = words\n",
        "        words = {}\n",
        "        vocab = []\n",
        "        wID = 0\n",
        "        words['<unk>'] = [wID,100]\n",
        "        wID = 1\n",
        "        words['< start_bio >'] = [wID,100]\n",
        "        wID = 2\n",
        "        words['< end_bio >'] = [wID,100]\n",
        "        vocab.append('<unk>')\n",
        "        vocab.append('< start_bio >')\n",
        "        vocab.append('< end_bio >')\n",
        "        for t in temp:\n",
        "            if temp[t][1] >= threshold:\n",
        "                vocab.append(t)\n",
        "                wID = wID + 1\n",
        "                words[t] = [wID,temp[t][1]]\n",
        "            \n",
        "                    \n",
        "    with open(file_name,'rt') as f:\n",
        "        for line in f:\n",
        "            line = line.replace('\\n','')\n",
        "            tokens = line.split(' ')\n",
        "            for t in tokens:\n",
        "                try:\n",
        "                    wID = words[t][0]\n",
        "                except:\n",
        "                    wID = words['<unk>'][0]\n",
        "                corpus.append(wID)\n",
        "                \n",
        "    return [vocab,words,corpus]"
      ]
    },
    {
      "cell_type": "code",
      "execution_count": null,
      "metadata": {
        "id": "1676oxmG6HBE"
      },
      "outputs": [],
      "source": [
        "def read_alltext(file_name,batch_size,vocab,words):\n",
        "  '''\n",
        "  tokenizes data, removes digits, converts to wIDs, and provides a tensor of batched inputs\n",
        "  inputs: \n",
        "    file_name = a complete file path to a mixed dataset containing text and labels\n",
        "    sequence_length = the length of the desired input array\n",
        "  outputs:\n",
        "    x = a tensor containing wIDs of the input\n",
        "  '''\n",
        "  word_dict = words\n",
        "  wid = []\n",
        "  real_wid = word_dict.get('[REAL]')[0]\n",
        "  fake_wid = word_dict.get('[FAKE]')[0]\n",
        "\n",
        "  with open(file_name) as input:\n",
        "    all_text = input.readlines()\n",
        "\n",
        "  for line in all_text:\n",
        "    line = line.strip()\n",
        "    line = re.sub(\"[\\d-]\", \"\",line)\n",
        "    if \"< start_bio >\" in line:\n",
        "      try:\n",
        "        wid.append(1)\n",
        "      except:\n",
        "        continue\n",
        "    elif \"< end_bio >\" in line:\n",
        "        wid.append(2)\n",
        "    elif \"[REAL]\" in line:\n",
        "        wid.append(real_wid)\n",
        "    elif \"[FAKE]\" in line:\n",
        "        wid.append(fake_wid)\n",
        "    else:\n",
        "      line = [token for token in word_tokenize(line.lower())]\n",
        "      for token in line:\n",
        "        word_info = word_dict.get(token)\n",
        "        if word_info is None:\n",
        "          wid.append(0) \n",
        "        else:\n",
        "          wid.append(word_info[0])\n",
        "\n",
        "  x = torch.tensor(np.asarray(wid)) \n",
        "  num_batches = x.shape[0] // batch_size \n",
        "  x = x[:num_batches * batch_size] \n",
        "  x = x.view(batch_size, num_batches)   \n",
        "\n",
        "  return x,vocab,words"
      ]
    },
    {
      "cell_type": "code",
      "execution_count": null,
      "metadata": {
        "id": "aIwsL4kA6Uwf"
      },
      "outputs": [],
      "source": [
        "def get_batch(data, seq_len, num_batches, idx):\n",
        "    src = data[:, idx:idx+seq_len]                   \n",
        "    target = data[:, idx+1:idx+seq_len+1]             \n",
        "    return src, target"
      ]
    },
    {
      "cell_type": "code",
      "execution_count": null,
      "metadata": {
        "colab": {
          "base_uri": "https://localhost:8080/"
        },
        "id": "BVgf4Udu6dmX",
        "outputId": "ecd6eb3b-8e11-47a1-ea1d-6d900eb1d68c"
      },
      "outputs": [
        {
          "name": "stdout",
          "output_type": "stream",
          "text": [
            "vocab: 35152 train: 3012820\n",
            "vocab: 35152 test: 395279\n",
            "{'d_model': 512, 'd_hidden': 512, 'n_layers': 2, 'batch_size': 20, 'seq_len': 30, 'printevery': 500, 'window': 3, 'epochs': 20, 'lr': 0.0001, 'dropout': 0.35, 'clip': 2.0, 'model': 'LSTM', 'savename': 'lstm', 'loadname': None, 'trainname': '/content/NLP-DL-Group2/hw#1/mix.train.tok', 'validname': '/content/NLP-DL-Group2/hw#1/mix.valid.tok', 'testname': '/content/NLP-DL-Group2/hw#1/mix.test.tok', 'vocab_size': 35152}\n"
          ]
        }
      ],
      "source": [
        "import torch\n",
        "import torch.nn.functional as F\n",
        "import torch.nn as nn\n",
        "import torch.optim as optim\n",
        "import math\n",
        "import time\n",
        "import numpy as np\n",
        "import sys\n",
        "import argparse\n",
        "import os\n",
        "\n",
        "class FFNN(nn.Module):\n",
        "    def __init__(self, vocab, words,d_model, d_hidden, dropout):\n",
        "        super().__init__() \n",
        "    \n",
        "        self.vocab = vocab\n",
        "        self.words = words\n",
        "        self.vocab_size = len(self.vocab)\n",
        "        self.d_model = d_model\n",
        "        self.d_hidden = d_hidden\n",
        "        self.dropout = dropout\n",
        "        self.embeds = nn.Embedding(self.vocab_size,d_model)\n",
        "#          {perform other initializations needed for the FFNN}\n",
        "\n",
        "    def forward(self, src):\n",
        "        embeds = self.dropout(self.embeds(src))\n",
        "#          {add code to implement the FFNN}\n",
        "        pass\n",
        "        # return x\n",
        "                \n",
        "    def init_weights(self):\n",
        "        pass\n",
        "#          {perform initializations}\n",
        "             \n",
        "class LSTM(nn.Module):\n",
        "    def __init__(self,vocab,words,d_model,d_hidden,n_layers,dropout_rate, tie_weights):\n",
        "        super().__init__()\n",
        "        \n",
        "        self.vocab = vocab\n",
        "        self.words = words\n",
        "        self.vocab_size = len(self.vocab)\n",
        "        self.n_layers = n_layers\n",
        "        self.d_hidden = d_hidden\n",
        "        self.d_model = d_model\n",
        "        self.embeds = nn.Embedding(self.vocab_size,d_model)\n",
        "#          {perform other initializations needed for the LSTM}\n",
        "        self.lstm = nn.LSTM(d_model, d_hidden, n_layers, dropout=dropout_rate, bidirectional=False, batch_first=True)\n",
        "        self.dropout = nn.Dropout(dropout_rate)\n",
        "        self.fc = nn.Linear(d_hidden, self.vocab_size)\n",
        "\n",
        "        if tie_weights:\n",
        "          assert d_model == d_hidden, 'cannot tie, check dims'\n",
        "          self.embeds.weight = self.fc.weight\n",
        "        self.init_weights()\n",
        "        \n",
        "    def forward(self,src,h):\n",
        "        embeds = self.dropout(self.embeds(src))  \n",
        "        out, h = self.lstm(embeds, h) \n",
        "        out = self.dropout(out)\n",
        "        predict = self.fc(out) \n",
        "        return predict, h\n",
        "    \n",
        "    def init_weights(self):\n",
        "        emb_range = 0.1\n",
        "        init_range = 1/math.sqrt(self.d_hidden)\n",
        "        self.embeds.weight.data.uniform_(-emb_range, emb_range)\n",
        "        self.fc.weight.data.uniform_(-init_range, init_range)\n",
        "        self.fc.bias.data.zero_()\n",
        "        for i in range(self.n_layers):\n",
        "            self.lstm.all_weights[i][0] = torch.FloatTensor(self.d_model,\n",
        "                    self.d_hidden).uniform_(-init_range, init_range) \n",
        "            self.lstm.all_weights[i][1] = torch.FloatTensor(self.d_hidden, \n",
        "                    self.d_hidden).uniform_(-init_range, init_range) \n",
        "        \n",
        "    def init_hidden(self, batch_size, device):\n",
        "        hidden = torch.zeros(self.n_layers, batch_size, self.d_hidden).to(device)\n",
        "        cell = torch.zeros(self.n_layers, batch_size, self.d_hidden).to(device)\n",
        "        return hidden, cell\n",
        "\n",
        "    def detach_hidden(self, hidden):\n",
        "      hidden, cell = hidden\n",
        "      hidden = hidden.detach()\n",
        "      cell = cell.detach()\n",
        "      return hidden,cell\n",
        " \n",
        "def main():\n",
        "    \n",
        "    parser = argparse.ArgumentParser()\n",
        "    parser.add_argument('-d_model', type=int, default=100)\n",
        "    parser.add_argument('-d_hidden', type=int, default=100)\n",
        "    parser.add_argument('-n_layers', type=int, default=2)\n",
        "    parser.add_argument('-batch_size', type=int, default=20)\n",
        "    parser.add_argument('-seq_len', type=int, default=30)\n",
        "    parser.add_argument('-printevery', type=int, default=5000)\n",
        "    parser.add_argument('-window', type=int, default=3)\n",
        "    parser.add_argument('-epochs', type=int, default=20)\n",
        "    parser.add_argument('-lr', type=float, default=0.0001)\n",
        "    parser.add_argument('-dropout', type=int, default=0.35)\n",
        "    parser.add_argument('-clip', type=int, default=2.0)\n",
        "    parser.add_argument('-model', type=str,default='LSTM')\n",
        "    parser.add_argument('-savename', type=str,default='lstm')\n",
        "    parser.add_argument('-loadname', type=str)\n",
        "    parser.add_argument('-trainname', type=str,default='wiki.train.txt')\n",
        "    parser.add_argument('-validname', type=str,default='wiki.valid.txt')\n",
        "    parser.add_argument('-testname', type=str,default='wiki.test.txt')\n",
        "\n",
        "    params = {\n",
        "        'd_model': 512,\n",
        "        'd_hidden': 512,\n",
        "        'n_layers': 2,\n",
        "        'batch_size': 20,\n",
        "        'seq_len': 30,\n",
        "        'printevery': 500,\n",
        "        'window': 3,\n",
        "        'epochs': 20,\n",
        "        'lr': 0.0001,\n",
        "        'dropout': 0.35,\n",
        "        'clip': 2.0,\n",
        "        'model': 'LSTM',\n",
        "        'savename': 'lstm',\n",
        "        'loadname': None,\n",
        "        'trainname': '/content/NLP-DL-Group2/hw#1/mix.train.tok',\n",
        "        'validname': '/content/NLP-DL-Group2/hw#1/mix.valid.tok',\n",
        "        'testname': '/content/NLP-DL-Group2/hw#1/mix.test.tok'\n",
        "    }\n",
        "    parser.add_argument(\"-f\", required=False)\n",
        "    \n",
        "    # params = parser.parse_args()    \n",
        "    # torch.manual_seed(0)\n",
        "    \n",
        "    [vocab,words,train] = read_encode(params['trainname'],[],{},[],3)\n",
        "    print('vocab: %d train: %d' % (len(vocab),len(train)))\n",
        "    [vocab,words,test] = read_encode(params['testname'],vocab,words,[],-1)\n",
        "    print('vocab: %d test: %d' % (len(vocab),len(test)))\n",
        "    params['vocab_size'] = len(vocab)\n",
        "\n",
        "    train_loader = read_encode(params['trainname'],[],{},[],3)\n",
        "    \n",
        "    if params['model'] == 'FFNN':\n",
        "      pass\n",
        "#          {add code to instantiate the model, train for K epochs and save model to disk}\n",
        "        \n",
        "    if params['model'] == 'LSTM':\n",
        "      pass\n",
        "\n",
        "    if params['model'] == 'FFNN_CLASSIFY':\n",
        "      pass\n",
        "#          {add code to instantiate the model, recall model parameters and perform/learn classification}\n",
        "\n",
        "    if params['model'] == 'LSTM_CLASSIFY':\n",
        "      pass\n",
        "#          {add code to instantiate the model, recall model parameters and perform/learn classification}\n",
        "        \n",
        "    print(params)\n",
        "    \n",
        "if __name__ == \"__main__\":\n",
        "    main()"
      ]
    },
    {
      "cell_type": "code",
      "execution_count": null,
      "metadata": {
        "id": "_K5EiF8S6ite"
      },
      "outputs": [],
      "source": [
        "def LSTM_train(model, data, optimizer, criterion, batch_size, seq_len, clip, device):\n",
        "\n",
        "  epoch_loss = 0\n",
        "  model.train()\n",
        "\n",
        "  num_batches = data.shape[-1]\n",
        "  data = data[:, :num_batches - (num_batches -1) % seq_len]\n",
        "  num_batches = data.shape[-1]\n",
        "\n",
        "  hidden = model.init_hidden(batch_size, device)\n",
        "    \n",
        "  for idx in range(0, num_batches - 1, seq_len):  # The last batch can't be a src\n",
        "      optimizer.zero_grad()\n",
        "      hidden = model.detach_hidden(hidden)\n",
        "\n",
        "      src, target = get_batch(data, seq_len, num_batches, idx)\n",
        "      src, target = src.to(device), target.to(device)\n",
        "      batch_size = src.shape[0]\n",
        "      prediction, hidden = model(src, hidden)               \n",
        "\n",
        "      prediction = prediction.reshape(batch_size * seq_len, -1)   \n",
        "      target = target.reshape(-1)\n",
        "      loss = criterion(prediction, target)\n",
        "      \n",
        "      loss.backward()\n",
        "      torch.nn.utils.clip_grad_norm_(model.parameters(), clip)\n",
        "      optimizer.step()\n",
        "      epoch_loss += loss.item() * seq_len\n",
        "    \n",
        "  return math.exp(epoch_loss / num_batches)\n",
        "  \n",
        "# [vocab,words,train] = read_encode('/content/NLP-DL-Group2/hw#1/mix.train.tok',[],{},[],3)\n",
        "\n",
        "# criterion = nn.CrossEntropyLoss()\n",
        "# data = all_text\n",
        "# batch_size = 20\n",
        "# seq_len = 30\n",
        "# clip = 2.0\n",
        "\n",
        "# model = LSTM(vocab,words,512,512,2,.35,True) \n",
        "# optimizer = optim.Adam(model.parameters(), lr=.0008)\n",
        "# print(LSTM_train(model,data,optimizer,criterion,batch_size,seq_len,clip,device))"
      ]
    },
    {
      "cell_type": "code",
      "execution_count": null,
      "metadata": {
        "id": "xD4tXuu46k06"
      },
      "outputs": [],
      "source": [
        "def evaluate(model, data, criterion, batch_size, seq_len, device):\n",
        "\n",
        "    epoch_loss = 0\n",
        "    model.eval()\n",
        "    num_batches = data.shape[-1]\n",
        "    data = data[:, :num_batches - (num_batches -1) % seq_len]\n",
        "    num_batches = data.shape[-1]\n",
        "\n",
        "    hidden = model.init_hidden(batch_size, device)\n",
        "\n",
        "    with torch.no_grad():\n",
        "        for idx in range(0, num_batches - 1, seq_len):\n",
        "            hidden = model.detach_hidden(hidden)\n",
        "            src, target = get_batch(data, seq_len, num_batches, idx)\n",
        "            src, target = src.to(device), target.to(device)\n",
        "            batch_size= src.shape[0]\n",
        "\n",
        "            prediction, hidden = model(src, hidden)\n",
        "            prediction = prediction.reshape(batch_size * seq_len, -1)\n",
        "            target = target.reshape(-1)\n",
        "\n",
        "            loss = criterion(prediction, target)\n",
        "            epoch_loss += loss.item() * seq_len\n",
        "    return math.exp(epoch_loss / num_batches)"
      ]
    },
    {
      "cell_type": "code",
      "execution_count": null,
      "metadata": {
        "id": "1kUrI0LU6qA9"
      },
      "outputs": [],
      "source": [
        "encodings = read_encode('/content/NLP-DL-Group2/hw#1/mix.train.tok',[],{},[],3) \n",
        "train_data,vocab,words = read_alltext('/content/NLP-DL-Group2/hw#1/mix.train.tok',20,encodings[0],encodings[1])\n",
        "valid_data,vocab,words = read_alltext('/content/NLP-DL-Group2/hw#1/mix.valid.tok',20,vocab,words)\n",
        "test_data,vocab,words = read_alltext('/content/NLP-DL-Group2/hw#1/mix.test.tok',20,vocab,words)"
      ]
    },
    {
      "cell_type": "code",
      "execution_count": null,
      "metadata": {
        "id": "r7BkRyR96mqU"
      },
      "outputs": [],
      "source": [
        "criterion = nn.CrossEntropyLoss() \n",
        "batch_size = 20\n",
        "seq_len = 30\n",
        "clip = 2.0\n",
        "n_epochs = 25\n",
        "saved = True\n",
        "\n",
        "model = LSTM(vocab,words,512,512,2,.35,True).to(device)\n",
        "optimizer = optim.Adam(model.parameters(), lr=.0008)\n"
      ]
    },
    {
      "cell_type": "code",
      "execution_count": null,
      "metadata": {
        "id": "f2vhnRbzWXLC"
      },
      "outputs": [],
      "source": [
        "optimizer = optim.Adam(model.parameters(), lr=.0008)\n",
        "lr_scheduler = optim.lr_scheduler.ReduceLROnPlateau(optimizer, factor=0.5, patience=0)\n"
      ]
    },
    {
      "cell_type": "code",
      "execution_count": null,
      "metadata": {
        "colab": {
          "base_uri": "https://localhost:8080/"
        },
        "id": "kTqV4ykk6sza",
        "outputId": "8b3b89f8-d44a-4454-bc0a-7cbbc5e146b8"
      },
      "outputs": [
        {
          "name": "stdout",
          "output_type": "stream",
          "text": [
            "\tTrain Perplexity: 179.475\n",
            "\tValid Perplexity: 66.991\n",
            "\tTrain Perplexity: 73.545\n",
            "\tValid Perplexity: 49.944\n",
            "\tTrain Perplexity: 56.900\n",
            "\tValid Perplexity: 43.796\n",
            "\tTrain Perplexity: 48.883\n",
            "\tValid Perplexity: 40.910\n",
            "\tTrain Perplexity: 43.876\n",
            "\tValid Perplexity: 39.106\n",
            "\tTrain Perplexity: 40.472\n",
            "\tValid Perplexity: 37.886\n",
            "\tTrain Perplexity: 38.008\n",
            "\tValid Perplexity: 37.348\n",
            "\tTrain Perplexity: 36.095\n",
            "\tValid Perplexity: 36.881\n",
            "\tTrain Perplexity: 34.562\n",
            "\tValid Perplexity: 36.562\n",
            "\tTrain Perplexity: 33.369\n",
            "\tValid Perplexity: 36.475\n",
            "\tTrain Perplexity: 32.383\n",
            "\tValid Perplexity: 36.277\n",
            "\tTrain Perplexity: 31.519\n",
            "\tValid Perplexity: 36.230\n",
            "\tTrain Perplexity: 30.808\n",
            "\tValid Perplexity: 36.198\n",
            "\tTrain Perplexity: 30.158\n",
            "\tValid Perplexity: 36.093\n",
            "\tTrain Perplexity: 29.618\n",
            "\tValid Perplexity: 36.174\n",
            "\tTrain Perplexity: 27.475\n",
            "\tValid Perplexity: 35.457\n",
            "\tTrain Perplexity: 26.755\n",
            "\tValid Perplexity: 35.341\n",
            "\tTrain Perplexity: 26.308\n",
            "\tValid Perplexity: 35.298\n",
            "\tTrain Perplexity: 25.941\n",
            "\tValid Perplexity: 35.282\n",
            "\tTrain Perplexity: 25.676\n",
            "\tValid Perplexity: 35.257\n",
            "\tTrain Perplexity: 25.336\n",
            "\tValid Perplexity: 35.290\n",
            "\tTrain Perplexity: 24.495\n",
            "\tValid Perplexity: 34.974\n",
            "\tTrain Perplexity: 24.184\n",
            "\tValid Perplexity: 34.907\n",
            "\tTrain Perplexity: 23.957\n",
            "\tValid Perplexity: 34.864\n",
            "\tTrain Perplexity: 23.754\n",
            "\tValid Perplexity: 34.842\n"
          ]
        }
      ],
      "source": [
        "train = []\n",
        "valid = []\n",
        "best_valid_loss = float('inf')\n",
        "\n",
        "for epoch in range(n_epochs):\n",
        "    train_loss = LSTM_train(model, train_data, optimizer, criterion, \n",
        "                20, seq_len, clip, device)\n",
        "    valid_loss = evaluate(model, valid_data, criterion, 20, \n",
        "                seq_len, device)\n",
        "    \n",
        "    lr_scheduler.step(valid_loss)\n",
        "\n",
        "    print(f'\\tTrain Perplexity: {train_loss:.3f}')\n",
        "    print(f'\\tValid Perplexity: {valid_loss:.3f}')\n",
        "\n",
        "    train.append(train_loss)\n",
        "    valid.append(valid_loss)\n",
        "\n",
        "    if valid_loss < best_valid_loss:\n",
        "        best_valid_loss = valid_loss\n",
        "        torch.save(model.state_dict(), 'best-val-lstm_lm.pt')"
      ]
    },
    {
      "cell_type": "code",
      "execution_count": null,
      "metadata": {
        "colab": {
          "base_uri": "https://localhost:8080/",
          "height": 295
        },
        "id": "BVaGb8ACjnvp",
        "outputId": "bdc9ae12-0b50-47f2-9794-0ea1f6903fb4"
      },
      "outputs": [
        {
          "data": {
            "image/png": "[encoded data removed]",
            "text/plain": [
              "<Figure size 432x288 with 1 Axes>"
            ]
          },
          "metadata": {},
          "output_type": "display_data"
        }
      ],
      "source": [
        "from matplotlib.pylab import plt\n",
        "from numpy import arange\n",
        "\n",
        "# Generate a sequence of integers to represent the epoch numbers\n",
        "epochs = range(1, 26)\n",
        " \n",
        "# Plot and label the training and validation loss values\n",
        "plt.plot(epochs, train , label='Training Loss')\n",
        "plt.plot(epochs, valid, label='Validation Loss')\n",
        " \n",
        "# Add in a title and axes labels\n",
        "plt.title('Training and Validation Loss')\n",
        "plt.xlabel('Epochs')\n",
        "plt.ylabel('Loss')\n",
        " \n",
        "# Set the tick locations\n",
        "plt.xticks(arange(0, 26, 2))\n",
        " \n",
        "# Display the plot\n",
        "plt.legend(loc='best')\n",
        "plt.show()"
      ]
    },
    {
      "cell_type": "code",
      "execution_count": null,
      "metadata": {
        "id": "15jJMSEYeAx0"
      },
      "outputs": [],
      "source": [
        "# save code\n",
        "torch.save({\n",
        "            'epoch': 10,\n",
        "            'batch': 20,\n",
        "            'model_state_dict': model.state_dict(),\n",
        "            'optimizer_state_dict': optimizer.state_dict(), \n",
        "            }, \"/content/drive/My Drive/lstm_mixed.pt\")"
      ]
    },
    {
      "cell_type": "code",
      "execution_count": null,
      "metadata": {
        "colab": {
          "base_uri": "https://localhost:8080/"
        },
        "id": "5OQqmo5Uedwg",
        "outputId": "27e79a7e-6480-44e3-c4a0-d5e79ba92d86"
      },
      "outputs": [
        {
          "name": "stdout",
          "output_type": "stream",
          "text": [
            "Test Perplexity: 35.324\n"
          ]
        }
      ],
      "source": [
        "model.load_state_dict(torch.load('/content/drive/My Drive/lstm_mixed.pt',  map_location=device)['model_state_dict'])\n",
        "test_loss = evaluate(model, test_data, criterion, batch_size, seq_len, device)\n",
        "print(f'Test Perplexity: {test_loss:.3f}')"
      ]
    },
    {
      "cell_type": "code",
      "execution_count": null,
      "metadata": {
        "id": "Kn_p9F6s6Ru-"
      },
      "outputs": [],
      "source": [
        "def make_tensors(file_name,vocab,words):\n",
        "  '''\n",
        "  creates a list of tuples containing a list with the tokenized bio and a fake/real label\n",
        "\n",
        "  inputs: \n",
        "    file_name = a complete file path to a mixed dataset containing text and labels \n",
        "  outputs:\n",
        "    x = a tensor containing wIDs for each bio\n",
        "    y = a tensor containing the corresponding label for each input\n",
        "  '''\n",
        "  \n",
        "  # stop = set(stopwords.words('english') + list(string.punctuation))\n",
        "  with open(file_name) as input:\n",
        "    all_text = input.readlines()\n",
        "\n",
        "# if anybody wants to do some work on the tokenization section, \n",
        "# you should work with the split_bios array, since it contains actual words\n",
        "\n",
        "# split_bios = [([bio1, tokens1],[REAL]),([bio2, tokens2],[FAKE])]\n",
        "  split_bios = []\n",
        "  line_text = []\n",
        "  seq_status = 0\n",
        "\n",
        "  # seq_status = 0 marks the start of the bio\n",
        "  # seq_status = 1 is the main text of the bio\n",
        "  # seq_status = 2 is the end of the bio\n",
        "  for line in all_text:\n",
        "    line = line.strip()\n",
        "    if \"< start_bio >\" in line:\n",
        "      seq_status = 0\n",
        "      continue\n",
        "    if \"< end_bio >\" in line:\n",
        "      seq_status = 2\n",
        "      line_text.append(line)\n",
        "      continue\n",
        "    if seq_status == 0:\n",
        "      # bio_person = line.strip(\" = \").lower().split()\n",
        "      # stop.update(bio_person) # could remove important words if name is meaningful\n",
        "      seq_status = 1\n",
        "    if seq_status == 1:\n",
        "      line = re.sub(\"[\\d-]\", \"\",line)\n",
        "      line = [token for token in word_tokenize(line.lower())]\n",
        "      # line = [token for token in word_tokenize(line.lower()) if token not in stop]\n",
        "      if len(line) > 0:\n",
        "        line_text.extend(line)\n",
        "    if seq_status == 2 and line !=\"\":\n",
        "      # stop -= set(bio_person)\n",
        "      # if line == '[FAKE]': #updated code so now fake / real is binary\n",
        "      #   line = 0\n",
        "      # elif line == '[REAL]':\n",
        "      #   line = 1\n",
        "      # else:\n",
        "      #   continue  \n",
        "      split_bios.append((line_text,line))\n",
        "      line_text = []\n",
        " \n",
        "  word_dict = words  \n",
        "  bio_array = [] \n",
        "  y = []\n",
        "\n",
        "  for bio in split_bios:\n",
        "    wid = []\n",
        "    wid.append(1)\n",
        "    for token in bio[0]:\n",
        "      word_info = word_dict.get(token)\n",
        "      if word_info is None:\n",
        "        wid.append(0)\n",
        "      else:\n",
        "        wid.append(word_info[0])\n",
        "    # if len(wid) > seq_len:\n",
        "    #   wid = wid[:seq_len-2]\n",
        "    #   wid.append(word_dict.get('< end_bio >')[0]) #makes last token \"end bio\" no matter what\n",
        "    #   wid.append(word_dict.get(bio[1])[0])\n",
        "    # elif len(wid) < seq_len:\n",
        "    #   wid.append(word_dict.get(bio[1])[0])\n",
        "    #   pad_size = seq_len - len(wid)\n",
        "    #   wid.extend(np.ones(pad_size,dtype=int))\n",
        "    bio_array.append(np.asarray(wid)) \n",
        "    real_wid = word_dict.get('[REAL]')[0]\n",
        "    fake_wid = word_dict.get('[FAKE]')[0] \n",
        "    if real_wid == word_dict.get(bio[1])[0]: \n",
        "        y.append(real_wid)\n",
        "    elif fake_wid == word_dict.get(bio[1])[0]:\n",
        "        y.append(fake_wid) \n",
        "    else:\n",
        "        print('error')\n",
        "       \n",
        "  x = bio_array\n",
        "  y = y  \n",
        "  return x,y"
      ]
    },
    {
      "cell_type": "code",
      "execution_count": null,
      "metadata": {
        "id": "BCBUAwvi_USL"
      },
      "outputs": [],
      "source": [
        "word_tensors = make_tensors('/content/NLP-DL-Group2/hw#1/mix.train.tok',vocab,words)"
      ]
    },
    {
      "cell_type": "code",
      "execution_count": null,
      "metadata": {
        "id": "pl0nTQpjrKmU"
      },
      "outputs": [],
      "source": [
        "def get_input_batch(data, seq_len, idx):\n",
        "    src = data[:, idx:idx+seq_len]                     \n",
        "    return src "
      ]
    },
    {
      "cell_type": "code",
      "execution_count": null,
      "metadata": {
        "colab": {
          "base_uri": "https://localhost:8080/"
        },
        "id": "T8iFGA8-eQOW",
        "outputId": "ce65cd18-a663-46e0-8997-2e4d206967bf"
      },
      "outputs": [
        {
          "data": {
            "text/plain": [
              "124"
            ]
          },
          "execution_count": 145,
          "metadata": {},
          "output_type": "execute_result"
        }
      ],
      "source": [
        "input = torch.tensor(word_tensors[0][100],device = device).reshape(-1,1)\n",
        "def LSTM_Classify(input, model, vocab, word_dict, device, seed=None):\n",
        "  real_wid = word_dict.get('[REAL]')[0]\n",
        "  fake_wid = word_dict.get('[FAKE]')[0]\n",
        "  if seed is not None:\n",
        "      torch.manual_seed(seed)\n",
        "  model.eval() \n",
        "  input = torch.transpose(input, 0, 1) \n",
        "  num_batches = input.shape[-1]  \n",
        "  input = input[:,(num_batches -1) % seq_len :]\n",
        "  num_batches = input.shape[-1]  \n",
        "  batch_size = 1  \n",
        "  hidden = model.init_hidden(batch_size, device)\n",
        "  prediction = None\n",
        "  for idx in range(0, num_batches - 1, seq_len): \n",
        "            hidden = model.detach_hidden(hidden)\n",
        "            src  = get_input_batch(input, seq_len, idx)\n",
        "            src  = src.to(device)  \n",
        "            prediction, hidden = model(src, hidden)\n",
        "\n",
        "  with torch.no_grad():\n",
        "      if(prediction == None): \n",
        "        print(input.size())\n",
        "        return 124\n",
        "      prediction = prediction.reshape(batch_size * seq_len, -1)  \n",
        "      probs = torch.softmax(prediction[-1, :] , dim=-1)   \n",
        "      real_prediction = probs[real_wid]\n",
        "      fake_prediction = probs[fake_wid] \n",
        "      if real_prediction > fake_prediction:\n",
        "        prediction = real_wid\n",
        "      else:\n",
        "        prediction = fake_wid\n",
        "   \n",
        "  return prediction \n",
        "LSTM_Classify(input,model,vocab,words,device)"
      ]
    },
    {
      "cell_type": "code",
      "execution_count": null,
      "metadata": {
        "colab": {
          "background_save": true
        },
        "id": "dxlH2qhjeV7t"
      },
      "outputs": [],
      "source": [
        "# print(len(word_tensors[1]))\n",
        "y_true=[] \n",
        "y_pred=[]\n",
        "correct = 0\n",
        "# for index in range(500):\n",
        "for index in range(len(word_tensors[1])):\n",
        "  item = torch.tensor(word_tensors[0][index],device = device).reshape(-1,1)\n",
        "  prediction = LSTM_Classify(item,model,vocab,words,device)\n",
        "  actual = word_tensors[1][index] \n",
        "  if(prediction == 637):\n",
        "    y_pred.append(1)\n",
        "  else:\n",
        "    y_pred.append(0)\n",
        "  if(actual == 637):\n",
        "    y_true.append(1)\n",
        "  else:\n",
        "    y_true.append(0)\n",
        "  if prediction == actual:\n",
        "    correct += 1\n",
        "  \n",
        "# print(correct/500)\n",
        "print(correct)\n",
        "print(correct/len(word_tensors[1]))"
      ]
    },
    {
      "cell_type": "code",
      "execution_count": null,
      "metadata": {
        "colab": {
          "background_save": true
        },
        "id": "6pNqp3zw4FOa",
        "outputId": "ccadfd66-2913-429a-d5c5-77af435a7a01"
      },
      "outputs": [
        {
          "data": {
            "text/plain": [
              "array([[2971,  942],\n",
              "       [2252, 1797]])"
            ]
          },
          "execution_count": 147,
          "metadata": {},
          "output_type": "execute_result"
        }
      ],
      "source": [
        "from sklearn.metrics import confusion_matrix\n",
        "confusion_matrix(y_true, y_pred)"
      ]
    }
  ],
  "metadata": {
    "accelerator": "GPU",
    "colab": {
      "provenance": [],
      "mount_file_id": "1lNBY2MVcB4NqCeNGhWzL9Ah6uihzwvYG",
      "authorship_tag": "ABX9TyPVlP8ftcGnh9O3O8do6upf",
      "include_colab_link": true
    },
    "gpuClass": "standard",
    "kernelspec": {
      "display_name": "Python 3",
      "name": "python3"
    },
    "language_info": {
      "name": "python"
    }
  },
  "nbformat": 4,
  "nbformat_minor": 0
}