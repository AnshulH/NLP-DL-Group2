{
  "cells": [
    {
      "cell_type": "markdown",
      "metadata": {
        "id": "view-in-github",
        "colab_type": "text"
      },
      "source": [
        "<a href=\"https://colab.research.google.com/github/AnshulH/NLP-DL-Group2/blob/fnn/ffnn_with_validation.ipynb\" target=\"_parent\"><img src=\"https://colab.research.google.com/assets/colab-badge.svg\" alt=\"Open In Colab\"/></a>"
      ]
    },
    {
      "cell_type": "code",
      "execution_count": null,
      "metadata": {
        "colab": {
          "base_uri": "https://localhost:8080/"
        },
        "id": "U7U7h5_g6HQj",
        "outputId": "770bcb63-9a2f-41a9-a858-f439a5b86aa2",
        "scrolled": true
      },
      "outputs": [
        {
          "name": "stdout",
          "output_type": "stream",
          "text": [
            "rm: cannot remove '/content/NLP-DL-Group2/': No such file or directory\n",
            "Cloning into 'NLP-DL-Group2'...\n",
            "remote: Enumerating objects: 123, done.\u001b[K\n",
            "remote: Counting objects: 100% (77/77), done.\u001b[K\n",
            "remote: Compressing objects: 100% (70/70), done.\u001b[K\n",
            "remote: Total 123 (delta 37), reused 18 (delta 5), pack-reused 46\u001b[K\n",
            "Receiving objects: 100% (123/123), 30.95 MiB | 13.28 MiB/s, done.\n",
            "Resolving deltas: 100% (56/56), done.\n"
          ]
        }
      ],
      "source": [
        "!rm -r /content/NLP-DL-Group2/\n",
        "!cd /content && git clone -b fnn https://github.com/AnshulH/NLP-DL-Group2"
      ]
    },
    {
      "cell_type": "code",
      "execution_count": null,
      "metadata": {
        "id": "xOWdVCUmfJZ5"
      },
      "outputs": [],
      "source": [
        "import torch\n",
        "import torch.nn.functional as F\n",
        "import torch.nn as nn\n",
        "import torch.optim as optim\n",
        "import math\n",
        "import time\n",
        "import numpy as np\n",
        "import sys\n",
        "import argparse\n",
        "import os\n",
        "import re\n",
        "from nltk.util import ngrams"
      ]
    },
    {
      "cell_type": "code",
      "execution_count": null,
      "metadata": {
        "id": "0E1tgVr_fJZ6"
      },
      "outputs": [],
      "source": [
        "def decode(vocab,corpus):\n",
        "    \n",
        "    text = ''\n",
        "    for i in range(len(corpus)):\n",
        "        wID = corpus[i]\n",
        "        text = text + vocab[wID] + ' '\n",
        "    return(text)\n",
        "\n",
        "def encode(words,text):\n",
        "    corpus = []\n",
        "    tokens = text.split(' ')\n",
        "    for t in tokens:\n",
        "        try:\n",
        "            wID = words[t][0]\n",
        "        except:\n",
        "            wID = words['<unk>'][0]\n",
        "        corpus.append(wID)\n",
        "    return(corpus)\n",
        "\n",
        "def read_encode(file_name,vocab,words,corpus,threshold):\n",
        "    \n",
        "    wID = len(vocab)\n",
        "    \n",
        "    if threshold > -1:\n",
        "        with open(file_name,'rt', encoding='utf8') as f:\n",
        "            for line in f:\n",
        "                line = line.replace('\\n','')\n",
        "                # Added lower-casing\n",
        "                line = line.lower()\n",
        "                \n",
        "                # Strips out all charcters other than alphanumeric\n",
        "                line = re.sub('[\\W_]+', ' ', line, flags=re.UNICODE)\n",
        "                \n",
        "                # Strips out numbers\n",
        "                line = re.sub('\\d+', '', line)\n",
        "                \n",
        "                tokens = line.split(' ')\n",
        "                for t in tokens:\n",
        "                    try:\n",
        "                        elem = words[t]\n",
        "                    except:\n",
        "                        elem = [wID,0]\n",
        "                        vocab.append(t)\n",
        "                        wID = wID + 1\n",
        "                    elem[1] = elem[1] + 1\n",
        "                    words[t] = elem\n",
        "\n",
        "        temp = words\n",
        "        words = {}\n",
        "        vocab = []\n",
        "        wID = 0\n",
        "        words['<unk>'] = [wID,100]\n",
        "        vocab.append('<unk>')\n",
        "        for t in temp:\n",
        "            if temp[t][1] >= threshold:\n",
        "                vocab.append(t)\n",
        "                wID = wID + 1\n",
        "                words[t] = [wID,temp[t][1]]\n",
        "            \n",
        "                    \n",
        "    with open(file_name,'rt', encoding='utf8') as f:\n",
        "        for line in f:\n",
        "            line = line.replace('\\n','')\n",
        "            tokens = line.split(' ')\n",
        "            for t in tokens:\n",
        "                try:\n",
        "                    wID = words[t][0]\n",
        "                except:\n",
        "                    wID = words['<unk>'][0]\n",
        "                corpus.append(wID)\n",
        "                \n",
        "    return [vocab,words,corpus]"
      ]
    },
    {
      "cell_type": "code",
      "execution_count": null,
      "metadata": {
        "colab": {
          "base_uri": "https://localhost:8080/"
        },
        "id": "z4YDBcnYft_l",
        "outputId": "35028384-6b71-4cfb-f4de-5fe8cd255891"
      },
      "outputs": [
        {
          "name": "stdout",
          "output_type": "stream",
          "text": [
            "vocab: 33633 train: 3366260\n",
            "vocab: 33633 test: 441210\n"
          ]
        }
      ],
      "source": [
        "params = {\n",
        "        'd_model': 100,\n",
        "        'd_hidden': 100,\n",
        "        'n_layers': 2,\n",
        "        'batch_size': 20,\n",
        "        'seq_len': 30,\n",
        "        'printevery': 5000,\n",
        "        'window': 3,\n",
        "        'epochs': 20,\n",
        "        'lr': 0.0001,\n",
        "        'dropout': 0.35,\n",
        "        'clip': 2.0,\n",
        "        'model': 'FFNN',\n",
        "        'savename': 'lstm',\n",
        "        'loadname': None,\n",
        "        'trainname': '/content/NLP-DL-Group2/hw#1/mix.train.txt',\n",
        "        'validname': '/content/NLP-DL-Group2/hw#1/mix.valid.txt',\n",
        "        'testname': '/content/NLP-DL-Group2/hw#1/mix.test.txt'\n",
        "    }\n",
        "torch.manual_seed(0)\n",
        "\n",
        "[vocab,words,train] = read_encode(params['trainname'],[],{},[],3)\n",
        "print('vocab: %d train: %d' % (len(vocab), len(train)))\n",
        "[vocab,words,test] = read_encode(params['testname'], vocab,words,[],-1)\n",
        "print('vocab: %d test: %d' % (len(vocab),len(test)))\n",
        "params['vocab_size'] = len(vocab)"
      ]
    },
    {
      "cell_type": "code",
      "execution_count": null,
      "metadata": {
        "id": "QlXXhar6gIZD"
      },
      "outputs": [],
      "source": [
        "# Returns bios in [(bio without puncutation, label), ...]\n",
        "# 0: FAKE\n",
        "# 1: REAL\n",
        "def read_bios(file_name, labels=False):\n",
        "    with open(file_name,'rt', encoding='utf8') as f:\n",
        "        all_bios = f.readlines()\n",
        "        \n",
        "    split_bios = []\n",
        "    curr_bio = \"\"\n",
        "    curr_index = 0\n",
        "    while curr_index < len(all_bios):\n",
        "        curr_line = all_bios[curr_index].lower()\n",
        "        # Strips out all charcters other than alphanumeric\n",
        "        curr_line = re.sub('[\\W_]+', ' ', curr_line, flags=re.UNICODE)\n",
        "        \n",
        "        # Strips out numbers\n",
        "        curr_line = re.sub('\\d+', '', curr_line)\n",
        "        \n",
        "        curr_line = curr_line.strip()\n",
        "        \n",
        "        if curr_line == \"start bio\":\n",
        "            # Skips their name\n",
        "            curr_index += 1\n",
        "        \n",
        "        elif curr_line == \"end bio\":\n",
        "          if labels:\n",
        "            curr_index += 2\n",
        "            if \"FAKE\" in all_bios[curr_index]:\n",
        "                label = 0\n",
        "            else:\n",
        "                label = 1\n",
        "\n",
        "            split_bios.append((curr_bio, label))\n",
        "            curr_bio = \"\"\n",
        "          \n",
        "          else:\n",
        "            split_bios.append((curr_bio, 0))\n",
        "            curr_bio = \"\"\n",
        "        \n",
        "        else:\n",
        "            # Check to ensure not empty space\n",
        "            if curr_line:\n",
        "                if curr_bio == \"\":\n",
        "                    curr_bio = curr_line\n",
        "                else:\n",
        "                    curr_bio += \" \" +  curr_line\n",
        "        \n",
        "        curr_index += 1\n",
        "        \n",
        "    \n",
        "    return split_bios"
      ]
    },
    {
      "cell_type": "code",
      "execution_count": null,
      "metadata": {
        "id": "cxU-2zc_gJ5A"
      },
      "outputs": [],
      "source": [
        "# Create windows\n",
        "# split_bios: [(bio without puncutation, label), ...]\n",
        "# Returns sliding windows (multiple per biography):\n",
        "# [\n",
        "#  [\n",
        "#   (['Hildebrand', 'Bothe', 'October'], 'September'),\n",
        "#   (['Bothe', 'October', 'September'], 'was'),\n",
        "#  ],\n",
        "#  [\n",
        "#   ([Hermann', 'Robert', 'Kaiser'], 'September'),\n",
        "#   ...\n",
        "#  ]\n",
        "# ]\n",
        "\n",
        "# Reference: https://pytorch.org/tutorials/beginner/nlp/word_embeddings_tutorial.html\n",
        "def create_windows(split_bios, window_size):\n",
        "    sliding_windows = []\n",
        "    for bio, label in split_bios:\n",
        "        bio_without_nums = ''.join([i for i in bio if not i.isdigit()])\n",
        "        tokens = [token for token in bio_without_nums.split(\" \") if token != \"\"]\n",
        "        \n",
        "        ngrams = []\n",
        "        for i in range(len(tokens) - window_size):\n",
        "            ngrams.append((\n",
        "                [tokens[i + j] for j in range(window_size)],\n",
        "                tokens[i + window_size]\n",
        "            ))\n",
        "        \n",
        "        sliding_windows.append((ngrams, label))\n",
        "    \n",
        "    return sliding_windows"
      ]
    },
    {
      "cell_type": "code",
      "execution_count": null,
      "metadata": {
        "id": "eWA2aWKAgLa7"
      },
      "outputs": [],
      "source": [
        "def create_context_and_next_words(windows):\n",
        "  all_context = []\n",
        "  all_next_words = []\n",
        "  skipped_labels = 0\n",
        "\n",
        "  for (each_bio, bio_label) in windows:\n",
        "    # Considering only fake windows for training the model\n",
        "    if bio_label == 0:\n",
        "      for context, label in each_bio:\n",
        "          found_in_words = [word in words for word in context]\n",
        "          found_in_words.extend([label in words])\n",
        "          if all(found_in_words):\n",
        "              all_context.append([words[word][0] for word in context])\n",
        "              all_next_words.append([words[label][0]])\n",
        "          else:\n",
        "              all_context.append([0] * len(context))\n",
        "              all_next_words.append([0])\n",
        "              \n",
        "              skipped_labels += 1\n",
        "\n",
        "  return torch.LongTensor(all_context), torch.LongTensor(all_next_words)\n",
        "\n",
        "# Skipping certain sliding windows because they weren't found in the dictionary\n",
        "# Unk'd?\n",
        "# print(skipped_labels)"
      ]
    },
    {
      "cell_type": "code",
      "execution_count": null,
      "metadata": {
        "id": "0ceIec6IgSrj"
      },
      "outputs": [],
      "source": [
        "import torch\n",
        "from torch.utils.data import DataLoader, TensorDataset\n",
        "\n",
        "BATCH_SIZE = 64\n",
        "\n",
        "train_split_bios = read_bios(params['trainname'], True)\n",
        "train_windows = create_windows(train_split_bios, 3)\n",
        "train_context_for_fake_bios, train_next_words_for_fake_bios = create_context_and_next_words(train_windows)\n",
        "\n",
        "train_dataset = TensorDataset(train_context_for_fake_bios, train_next_words_for_fake_bios)\n",
        "train_dataloader = DataLoader(train_dataset, batch_size=BATCH_SIZE, shuffle=True)\n",
        "\n",
        "valid_split_bios = read_bios(params['validname'], True)\n",
        "valid_windows = create_windows(valid_split_bios, 3)\n",
        "valid_context_for_fake_bios, valid_next_words_for_fake_bios = create_context_and_next_words(valid_windows)\n",
        "\n",
        "valid_dataset = TensorDataset(valid_context_for_fake_bios, valid_next_words_for_fake_bios)\n",
        "valid_dataloader = DataLoader(valid_dataset, batch_size=BATCH_SIZE, shuffle=True)"
      ]
    },
    {
      "cell_type": "code",
      "execution_count": null,
      "metadata": {
        "colab": {
          "base_uri": "https://localhost:8080/"
        },
        "id": "1_irXR35lui0",
        "outputId": "53f94b62-c849-4eb5-b48c-f97c72d0d295"
      },
      "outputs": [
        {
          "name": "stdout",
          "output_type": "stream",
          "text": [
            "Mounted at /content/gdrive\n"
          ]
        }
      ],
      "source": [
        "from google.colab import drive\n",
        "drive.mount('/content/gdrive')"
      ]
    },
    {
      "cell_type": "code",
      "execution_count": null,
      "metadata": {
        "id": "GB_oPsO4xrxH"
      },
      "outputs": [],
      "source": [
        "class FFNN(nn.Module):\n",
        "    # d_model = embedding dimensions\n",
        "    def __init__(self, vocab, words,d_model, d_hidden, dropout):\n",
        "        super().__init__() \n",
        "    \n",
        "        self.vocab = vocab\n",
        "        self.words = words\n",
        "        self.vocab_size = len(self.vocab)\n",
        "        self.d_model = d_model\n",
        "        self.d_hidden = d_hidden\n",
        "        self.dropout = nn.Dropout(dropout)\n",
        "        self.embeds = nn.Embedding(self.vocab_size,d_model)\n",
        "        \n",
        "        # Context size * dimensions for input\n",
        "        # Hidden layer neurons was more difficult to find information\n",
        "        self.linear1 = nn.Linear(3 * d_model, 512)\n",
        "        self.linear2 = nn.Linear(512, self.vocab_size)\n",
        "\n",
        "    def forward(self, src):\n",
        "        embeds = self.embeds(src).flatten(1, 2)\n",
        "        out = F.relu(self.linear1(embeds))\n",
        "        out = self.dropout(out)\n",
        "        out = self.linear2(out)\n",
        "        log_probs = F.log_softmax(out, dim=1)\n",
        "        return log_probs\n",
        "                \n",
        "    def init_weights(self):\n",
        "        pass"
      ]
    },
    {
      "cell_type": "code",
      "execution_count": null,
      "metadata": {
        "id": "pD02EvLB_7Lj"
      },
      "outputs": [],
      "source": [
        "# Changes:\n",
        "# Dropout (0.02)\n",
        "# Mini batch size (500)\n",
        "# Epochs (100)\n",
        "# Increase learning rate to 0.0003"
      ]
    },
    {
      "cell_type": "code",
      "execution_count": null,
      "metadata": {
        "colab": {
          "base_uri": "https://localhost:8080/"
        },
        "id": "ZlKVV6p8P47I",
        "outputId": "da787c8f-9eb4-43a3-88ae-128323cdb01b"
      },
      "outputs": [
        {
          "data": {
            "text/plain": [
              "FFNN(\n",
              "  (dropout): Dropout(p=0.2, inplace=False)\n",
              "  (embeds): Embedding(33633, 100)\n",
              "  (linear1): Linear(in_features=300, out_features=512, bias=True)\n",
              "  (linear2): Linear(in_features=512, out_features=33633, bias=True)\n",
              ")"
            ]
          },
          "execution_count": 16,
          "metadata": {},
          "output_type": "execute_result"
        }
      ],
      "source": [
        "model = FFNN(vocab, words, d_model=100, d_hidden=100, dropout=0.2)\n",
        "loss_function = nn.NLLLoss()\n",
        "optimizer = torch.optim.Adam(model.parameters(), lr=0.0003)\n",
        "\n",
        "checkpoint = torch.load('/content/gdrive/My Drive/dropout_fnn_batch500_epoch32.pt')\n",
        "model.load_state_dict(checkpoint['model_state_dict'])\n",
        "optimizer.load_state_dict(checkpoint['optimizer_state_dict'])\n",
        "model.train()"
      ]
    },
    {
      "cell_type": "code",
      "execution_count": 20,
      "metadata": {
        "colab": {
          "base_uri": "https://localhost:8080/"
        },
        "id": "MefYYvncgN54",
        "outputId": "d5d6bf26-19bf-403e-a623-6bd7f55ec3f8"
      },
      "outputs": [
        {
          "output_type": "stream",
          "name": "stdout",
          "text": [
            "epoch 16, training loss: 5.008866271018982, valid loss: 4.70917207291354\n",
            "train perplexity: 149.7348836551751, valid perplexity: 110.76995100099873\n",
            "epoch 17, training loss: 5.011155480384827, valid loss: 4.700547293334484\n",
            "train perplexity: 150.07804776275205, valid perplexity: 109.86103542061939\n",
            "epoch 18, training loss: 4.993902267456055, valid loss: 4.6970519280207\n",
            "train perplexity: 147.51093201787532, valid perplexity: 109.4530946799255\n",
            "epoch 19, training loss: 4.959555348396301, valid loss: 4.682960508850809\n",
            "train perplexity: 142.53040262748056, valid perplexity: 107.8968694194577\n",
            "epoch 20, training loss: 4.951557646751404, valid loss: 4.677368281706797\n",
            "train perplexity: 141.39503439470917, valid perplexity: 107.34261439327638\n",
            "epoch 21, training loss: 4.998416836738587, valid loss: 4.671804722535119\n",
            "train perplexity: 148.17838689793507, valid perplexity: 106.7438314966122\n",
            "epoch 22, training loss: 4.911519273757935, valid loss: 4.661982759192498\n",
            "train perplexity: 135.8456444795576, valid perplexity: 105.68319739439153\n",
            "epoch 23, training loss: 4.916198114395142, valid loss: 4.656122463221138\n",
            "train perplexity: 136.4827372103872, valid perplexity: 105.07993081479265\n",
            "epoch 24, training loss: 4.901976267814637, valid loss: 4.6480884406295715\n",
            "train perplexity: 134.5554367697576, valid perplexity: 104.25285853859492\n",
            "epoch 25, training loss: 4.869320890903473, valid loss: 4.642301737857437\n",
            "train perplexity: 130.23244705986366, valid perplexity: 103.62884377770419\n",
            "epoch 26, training loss: 4.868655454158783, valid loss: 4.639376075735131\n",
            "train perplexity: 130.1458160217518, valid perplexity: 103.36257613693107\n",
            "epoch 27, training loss: 4.862689906597137, valid loss: 4.630443569328408\n",
            "train perplexity: 129.37173396429571, valid perplexity: 102.41035441024565\n",
            "epoch 28, training loss: 4.851838457584381, valid loss: 4.620953475905522\n",
            "train perplexity: 127.97545710686198, valid perplexity: 101.43023802314549\n",
            "epoch 29, training loss: 4.808765112400055, valid loss: 4.618327103464136\n",
            "train perplexity: 122.5801591145906, valid perplexity: 101.14410189355569\n",
            "epoch 30, training loss: 4.835752174854279, valid loss: 4.610321014593391\n",
            "train perplexity: 125.9332724962402, valid perplexity: 100.38322264706215\n",
            "epoch 31, training loss: 4.791666895866394, valid loss: 4.6029060448171215\n",
            "train perplexity: 120.50206849796385, valid perplexity: 99.6703887931458\n",
            "epoch 32, training loss: 4.740185980796814, valid loss: 4.605629528847794\n",
            "train perplexity: 114.45548866192173, valid perplexity: 99.9357057779192\n",
            "Overfitted\n",
            "Finished!\n"
          ]
        }
      ],
      "source": [
        "# AFTER BATCHING\n",
        "\n",
        "# model = FFNN(vocab, words, d_model=100, d_hidden=100, dropout=0.2)\n",
        "# loss_function = nn.NLLLoss()\n",
        "# optimizer = torch.optim.Adam(model.parameters(), lr=0.0003)\n",
        "\n",
        "train_perplexity_scores = checkpoint['train_perplexity']\n",
        "valid_perplexity_scores = checkpoint['valid_perplexity']\n",
        "\n",
        "for epoch in range(checkpoint['epoch'] + 1, 50):\n",
        "    train_running_loss_loss_func = 0\n",
        "    train_running_loss_perplexity = 0\n",
        "    valid_running_loss_loss_func = 0\n",
        "    valid_running_loss_perplexity = 0\n",
        "    for i, (context, label) in enumerate(train_dataloader):\n",
        "        log_probabilities = model(context)\n",
        "        # Collapsing labels to correct dimensions\n",
        "        label = label.squeeze()\n",
        "        loss = loss_function(log_probabilities, label)\n",
        "\n",
        "        true_word_probabilities = []\n",
        "        for j in range(len(log_probabilities)):\n",
        "          current_true_prob = log_probabilities[j][label[j]]\n",
        "          true_word_probabilities.append(current_true_prob.item())\n",
        "\n",
        "        train_running_loss_loss_func += loss.item()\n",
        "        train_running_loss_perplexity += sum(true_word_probabilities) / BATCH_SIZE\n",
        "        \n",
        "        model.zero_grad()\n",
        "        loss.backward()\n",
        "        optimizer.step()\n",
        "        \n",
        "        if i == 499:\n",
        "          break\n",
        "\n",
        "    for _, (context, label) in enumerate(valid_dataloader):\n",
        "        log_probabilities = model(context)\n",
        "        # Collapsing labels to correct dimensions\n",
        "        label = label.squeeze()\n",
        "        loss = loss_function(log_probabilities, label)\n",
        "\n",
        "        true_word_probabilities = []\n",
        "        for j in range(len(log_probabilities)):\n",
        "          current_true_prob = log_probabilities[j][label[j]]\n",
        "          true_word_probabilities.append(current_true_prob.item())\n",
        "\n",
        "        valid_running_loss_loss_func += loss.item()\n",
        "        valid_running_loss_perplexity += sum(true_word_probabilities) / BATCH_SIZE\n",
        "\n",
        "    train_perplexity = math.exp(- train_running_loss_perplexity / 500)\n",
        "    train_perplexity_scores.append(train_perplexity)\n",
        "\n",
        "    valid_perplexity = math.exp(- valid_running_loss_perplexity / len(valid_dataloader))\n",
        "    valid_perplexity_scores.append(valid_perplexity)\n",
        "        \n",
        "    print('epoch {}, training loss: {}, valid loss: {}'.format(epoch, train_running_loss_loss_func / 500, valid_running_loss_loss_func / len(valid_dataloader)))\n",
        "    print('train perplexity: {}, valid perplexity: {}'.format(train_perplexity, valid_perplexity))      \n",
        "    torch.save({\n",
        "        'epoch': epoch,\n",
        "        'model_state_dict': model.state_dict(),\n",
        "        'optimizer_state_dict': optimizer.state_dict(),\n",
        "        'train_perplexity': train_perplexity_scores,\n",
        "        'valid_perplexity': valid_perplexity_scores,\n",
        "        }, \"/content/gdrive/My Drive/dropout_fnn_batch500_epoch_{}.pt\".format(epoch))\n",
        "    \n",
        "    # Stop\n",
        "    if epoch >= 1 and valid_perplexity_scores[-1] >= valid_perplexity_scores[-2]:\n",
        "      print(\"Overfitted\")\n",
        "      break\n",
        "    \n",
        "print(\"Finished!\")"
      ]
    },
    {
      "cell_type": "code",
      "source": [
        "from matplotlib import pyplot\n",
        "\n",
        "pyplot.plot(range(len(train_perplexity_scores)), train_perplexity_scores, label='Training')\n",
        "pyplot.plot(range(len(valid_perplexity_scores)), valid_perplexity_scores, label='Valid')\n",
        "\n",
        "pyplot.xlabel('Epochs')\n",
        "pyplot.ylabel('Perplexity Score')\n",
        "pyplot.title('Perplexity over Epochs')\n",
        "pyplot.legend()\n",
        "pyplot.show()"
      ],
      "metadata": {
        "colab": {
          "base_uri": "https://localhost:8080/",
          "height": 295
        },
        "id": "dyvmhLbscPMs",
        "outputId": "a190ca10-cc87-4b4e-cfaf-31726c635848"
      },
      "execution_count": 33,
      "outputs": [
        {
          "output_type": "display_data",
          "data": {
            "text/plain": [
              "<Figure size 432x288 with 1 Axes>"
            ],
            "image/png": "[encoded data removed]"
          },
          "metadata": {
            "needs_background": "light"
          }
        }
      ]
    },
    {
      "cell_type": "code",
      "execution_count": 21,
      "metadata": {
        "id": "WdoyNaubyhkm"
      },
      "outputs": [],
      "source": [
        "import torch\n",
        "from torch.utils.data import DataLoader, TensorDataset\n",
        "\n",
        "split_bios = read_bios('/content/NLP-DL-Group2/hw#1/mix.train.txt', True)\n",
        "windows = create_windows(split_bios, 3)\n",
        "\n",
        "all_sliding_windows = [item[0] for item in windows]\n",
        "all_bio_labels = [item[1] for item in windows]\n",
        "\n",
        "BATCH_SIZE = 64"
      ]
    },
    {
      "cell_type": "code",
      "execution_count": 22,
      "metadata": {
        "id": "1299MIfZHfsE"
      },
      "outputs": [],
      "source": [
        "# Makes context + true words for each given bio\n",
        "# @param: pass it the sliding windows of a given bio\n",
        "# sliding window is a list of pairs\n",
        "# [(['hildebrand', 'bothe', 'october'], 'september'), (['bothe', 'october', 'september'], 'was'), ...]\n",
        "\n",
        "def make_context_and_true_words_per_bio(bio):\n",
        "  all_context = []\n",
        "  all_next_words = []\n",
        "\n",
        "  for context, label in bio:\n",
        "      found_in_words = [word in words for word in context]\n",
        "      found_in_words.extend([label in words])\n",
        "      if all(found_in_words):\n",
        "          all_context.append([words[word][0] for word in context])\n",
        "          all_next_words.append([words[label][0]])\n",
        "      else:\n",
        "          all_context.append([0] * len(context))\n",
        "          all_next_words.append([0])\n",
        "\n",
        "    # Random edge case on line 42422 of the bios...\n",
        "  if all_context == [] and all_next_words == []:\n",
        "    all_context.append([0] * 3)\n",
        "    all_next_words.append([0])\n",
        "\n",
        "  return torch.LongTensor(all_context), torch.LongTensor(all_next_words)"
      ]
    },
    {
      "cell_type": "markdown",
      "metadata": {
        "id": "lUX3T-5vYDY7"
      },
      "source": [
        "For some reason, this is a bio.\n",
        "```\n",
        "<start_bio> \n",
        " = Zulus =  \n",
        "<end_bio> \n",
        "\n",
        "[FAKE]\n",
        "```"
      ]
    },
    {
      "cell_type": "code",
      "execution_count": 23,
      "metadata": {
        "id": "zxW0LuDQAYmJ"
      },
      "outputs": [],
      "source": [
        "from scipy import stats"
      ]
    },
    {
      "cell_type": "code",
      "execution_count": 24,
      "metadata": {
        "colab": {
          "base_uri": "https://localhost:8080/"
        },
        "id": "UqAgWHjp79fX",
        "outputId": "6b7e1077-2d17-4cfb-da0a-8c9b9b52ee5c"
      },
      "outputs": [
        {
          "output_type": "execute_result",
          "data": {
            "text/plain": [
              "FFNN(\n",
              "  (dropout): Dropout(p=0.2, inplace=False)\n",
              "  (embeds): Embedding(33633, 100)\n",
              "  (linear1): Linear(in_features=300, out_features=512, bias=True)\n",
              "  (linear2): Linear(in_features=512, out_features=33633, bias=True)\n",
              ")"
            ]
          },
          "metadata": {},
          "execution_count": 24
        }
      ],
      "source": [
        "# Turns off dropout layer\n",
        "model.eval()"
      ]
    },
    {
      "cell_type": "code",
      "execution_count": 34,
      "metadata": {
        "id": "LM3vj3vayx_9"
      },
      "outputs": [],
      "source": [
        "# [(probability, label), ...]\n",
        "# [(0.05, 0), ...]\n",
        "probabilities = []\n",
        "\n",
        "for i in range(len(all_sliding_windows)):\n",
        "  all_sliding_windows_for_bio = all_sliding_windows[i]\n",
        "  context, true_words = make_context_and_true_words_per_bio(all_sliding_windows_for_bio)\n",
        "\n",
        "  bio_label = all_bio_labels[i]\n",
        "\n",
        "  # Each bio has a probability table (mapping words to their probabilities, given the sequence)\n",
        "  log_probability_tables = model(context)\n",
        "\n",
        "  normal_probabilities = torch.FloatTensor([])\n",
        "\n",
        "  for idx_curr_context, probability_distributions_for_each_context in enumerate(log_probability_tables):\n",
        "    true_word_for_curr_context = true_words[idx_curr_context]\n",
        "    probability_for_true_word = probability_distributions_for_each_context[true_word_for_curr_context]\n",
        "    probability_for_predicted_word = torch.max(probability_distributions_for_each_context)\n",
        "\n",
        "    probability_normalized = (probability_for_predicted_word - probability_for_true_word) / (probability_for_predicted_word + 1e-9)\n",
        "\n",
        "    normal_probabilities = torch.cat([normal_probabilities, probability_normalized])\n",
        "\n",
        "  # Trimming mean by 0.05 (from each side) and dividing by the length\n",
        "  trimmed_mean = stats.trim_mean(normal_probabilities.detach().numpy(), 0.05) / len(log_probability_tables)\n",
        "\n",
        "  probabilities.append([trimmed_mean, bio_label])"
      ]
    },
    {
      "cell_type": "code",
      "execution_count": 35,
      "metadata": {
        "id": "xXPmLH81gRcN"
      },
      "outputs": [],
      "source": [
        "import pickle\n",
        "\n",
        "with open(\"/content/gdrive/My Drive/normal_probabilities_dropout_fnn_batch500\", \"wb\") as fp:   #Pickling\n",
        "  pickle.dump(probabilities, fp)"
      ]
    },
    {
      "cell_type": "markdown",
      "metadata": {
        "id": "_owJF_JWKlrJ"
      },
      "source": [
        "## Evaluating on Training Data"
      ]
    },
    {
      "cell_type": "code",
      "execution_count": null,
      "metadata": {
        "id": "BIIZ9w82Fk1e"
      },
      "outputs": [],
      "source": [
        "import pickle\n",
        "\n",
        "with open(\"/content/gdrive/My Drive/normal_probabilities_dropout_fnn_batch500_epoch50_mixed\", \"wb\") as fp:   #Pickling\n",
        "  pickle.dump(probabilities, fp)"
      ]
    },
    {
      "cell_type": "code",
      "execution_count": 37,
      "metadata": {
        "colab": {
          "base_uri": "https://localhost:8080/",
          "height": 265
        },
        "id": "av2hyyxES1Fu",
        "outputId": "2d8a96ff-448c-414b-fe4d-30504fb71ef4"
      },
      "outputs": [
        {
          "output_type": "display_data",
          "data": {
            "text/plain": [
              "<Figure size 432x288 with 1 Axes>"
            ],
            "image/png": "[encoded data removed]"
          },
          "metadata": {
            "needs_background": "light"
          }
        }
      ],
      "source": [
        "import matplotlib.pyplot as plt\n",
        "import numpy as np\n",
        "import math\n",
        "\n",
        "plt.style.use('seaborn-deep')\n",
        "\n",
        "probabilites_true = [item[0] for item in probabilities if item[1] == 1]\n",
        "probabilites_fake = [item[0] for item in probabilities if item[1] == 0]\n",
        "\n",
        "# min_bound = math.floor(min(min(probabilites_true), min(probabilites_fake)))\n",
        "\n",
        "x = probabilites_true\n",
        "y = probabilites_fake\n",
        "bins = np.linspace(-0.025, 0, 100)\n",
        "\n",
        "plt.hist([x, y], bins, label=['true', 'fake'])\n",
        "plt.legend(loc='upper left')\n",
        "plt.show()"
      ]
    },
    {
      "cell_type": "code",
      "execution_count": 38,
      "metadata": {
        "colab": {
          "base_uri": "https://localhost:8080/",
          "height": 297
        },
        "id": "M9IuVFFDkKOD",
        "outputId": "e1abb431-fda8-45f0-d00c-c6c01d11507c"
      },
      "outputs": [
        {
          "output_type": "stream",
          "name": "stdout",
          "text": [
            "Best Threshold=0.505628, G-Mean=0.635\n"
          ]
        },
        {
          "output_type": "display_data",
          "data": {
            "text/plain": [
              "<Figure size 432x288 with 1 Axes>"
            ],
            "image/png": "[encoded data removed]"
          },
          "metadata": {
            "needs_background": "light"
          }
        }
      ],
      "source": [
        "# https://machinelearningmastery.com/threshold-moving-for-imbalanced-classification/\n",
        "# roc curve for logistic regression model with optimal threshold\n",
        "import numpy as np\n",
        "from numpy import sqrt\n",
        "from numpy import argmax\n",
        "from sklearn.datasets import make_classification\n",
        "from sklearn.linear_model import LogisticRegression\n",
        "from sklearn.model_selection import train_test_split\n",
        "from sklearn.metrics import roc_curve\n",
        "from matplotlib import pyplot\n",
        "\n",
        "# generate dataset\n",
        "X, y = [item[0] for item in probabilities], [item[1] for item in probabilities]\n",
        "\n",
        "# split into train/test sets\n",
        "trainX, testX, trainy, testy = train_test_split(X, y, test_size=0.2, random_state=2, stratify=y)\n",
        "trainX = np.array(trainX).reshape(-1, 1)\n",
        "testX = np.array(testX).reshape(-1, 1)\n",
        "\n",
        "# fit a model\n",
        "lg_model = LogisticRegression(solver='lbfgs')\n",
        "lg_model.fit(trainX, trainy)\n",
        "\n",
        "# predict probabilities\n",
        "yhat = lg_model.predict_proba(testX)\n",
        "# keep probabilities for the positive outcome only\n",
        "yhat = yhat[:, 1]\n",
        "\n",
        "# calculate roc curves\n",
        "fpr, tpr, thresholds = roc_curve(testy, yhat)\n",
        "\n",
        "# calculate the g-mean for each threshold\n",
        "gmeans = sqrt(tpr * (1-fpr))\n",
        "# locate the index of the largest g-mean\n",
        "idx_best = argmax(gmeans)\n",
        "print('Best Threshold=%f, G-Mean=%.3f' % (thresholds[idx_best], gmeans[idx_best]))\n",
        "best_threshold = thresholds[idx_best]\n",
        "# plot the roc curve for the model\n",
        "pyplot.plot([0,1], [0,1], linestyle='--', label='No Skill')\n",
        "pyplot.plot(fpr, tpr, marker='.', label='Logistic')\n",
        "pyplot.scatter(fpr[idx_best], tpr[idx_best], marker='o', color='black', label='Best')\n",
        "# axis labels\n",
        "pyplot.xlabel('False Positive Rate')\n",
        "pyplot.ylabel('True Positive Rate')\n",
        "pyplot.legend()\n",
        "# show the plot\n",
        "pyplot.show()"
      ]
    },
    {
      "cell_type": "code",
      "execution_count": 40,
      "metadata": {
        "id": "xm3fsiG2maAJ"
      },
      "outputs": [],
      "source": [
        "# predict probabilities\n",
        "yhat = lg_model.predict_proba(testX)\n",
        "# keep probabilities for the positive outcome only\n",
        "yhat = yhat[:, 1]\n",
        "\n",
        "y_predictions = yhat >= thresholds[idx_best]\n",
        "y_predictions = [y.astype(int) for y in y_predictions]"
      ]
    },
    {
      "cell_type": "code",
      "execution_count": 41,
      "metadata": {
        "colab": {
          "base_uri": "https://localhost:8080/"
        },
        "id": "BRQT0WSvlAYV",
        "outputId": "4d1c1878-f254-402a-d7cf-89b7bcea6470"
      },
      "outputs": [
        {
          "output_type": "execute_result",
          "data": {
            "text/plain": [
              "array([[503, 280],\n",
              "       [301, 509]])"
            ]
          },
          "metadata": {},
          "execution_count": 41
        }
      ],
      "source": [
        "from sklearn.metrics import confusion_matrix, accuracy_score\n",
        "\n",
        "confusion_matrix(testy, y_predictions)"
      ]
    },
    {
      "cell_type": "code",
      "execution_count": 42,
      "metadata": {
        "colab": {
          "base_uri": "https://localhost:8080/"
        },
        "id": "zwHRYLEDxK8R",
        "outputId": "f3b993f9-bbb1-4feb-9ba5-c63f46a3f11f"
      },
      "outputs": [
        {
          "output_type": "execute_result",
          "data": {
            "text/plain": [
              "0.6352793471437539"
            ]
          },
          "metadata": {},
          "execution_count": 42
        }
      ],
      "source": [
        "accuracy_score(testy, y_predictions)"
      ]
    },
    {
      "cell_type": "markdown",
      "source": [
        "## Evaluating on Valid Data"
      ],
      "metadata": {
        "id": "5_31hol5qQvb"
      }
    },
    {
      "cell_type": "code",
      "source": [
        "import torch\n",
        "from torch.utils.data import DataLoader, TensorDataset\n",
        "from scipy import stats\n",
        "\n",
        "split_bios = read_bios('/content/NLP-DL-Group2/hw#1/mix.valid.txt', True)\n",
        "windows = create_windows(split_bios, 3)\n",
        "\n",
        "all_sliding_windows = [item[0] for item in windows]\n",
        "all_bio_labels = [item[1] for item in windows]\n",
        "\n",
        "BATCH_SIZE = 64"
      ],
      "metadata": {
        "id": "MRMu0aEZqP9b"
      },
      "execution_count": 43,
      "outputs": []
    },
    {
      "cell_type": "code",
      "source": [
        "# Now that we know the best threshold, we can apply that threshold to the valid dataset\n",
        "\n",
        "probabilities = []\n",
        "\n",
        "for i in range(len(all_sliding_windows)):\n",
        "  all_sliding_windows_for_bio = all_sliding_windows[i]\n",
        "  context, true_words = make_context_and_true_words_per_bio(all_sliding_windows_for_bio)\n",
        "\n",
        "  bio_label = all_bio_labels[i]\n",
        "\n",
        "  # Each bio has a probability table (mapping words to their probabilities, given the sequence)\n",
        "  log_probability_tables = model(context)\n",
        "\n",
        "  normal_probabilities = torch.FloatTensor([])\n",
        "\n",
        "  for idx_curr_context, probability_distributions_for_each_context in enumerate(log_probability_tables):\n",
        "    true_word_for_curr_context = true_words[idx_curr_context]\n",
        "    probability_for_true_word = probability_distributions_for_each_context[true_word_for_curr_context]\n",
        "    probability_for_predicted_word = torch.max(probability_distributions_for_each_context)\n",
        "\n",
        "    probability_normalized = (probability_for_predicted_word - probability_for_true_word) / (probability_for_predicted_word + 1e-9)\n",
        "\n",
        "    normal_probabilities = torch.cat([normal_probabilities, probability_normalized])\n",
        "\n",
        "  # Trimming mean by 0.05 (from each side) and dividing by the length\n",
        "  trimmed_mean = stats.trim_mean(normal_probabilities.detach().numpy(), 0.05) / len(log_probability_tables)\n",
        "\n",
        "  probabilities.append((trimmed_mean, bio_label))"
      ],
      "metadata": {
        "id": "3Lnzt2MnqVS-"
      },
      "execution_count": 44,
      "outputs": []
    },
    {
      "cell_type": "code",
      "source": [
        "X, y = [item[0] for item in probabilities], [item[1] for item in probabilities]\n",
        "X = np.array(X).reshape(-1, 1)\n",
        "\n",
        "# predict probabilities\n",
        "yhat = lg_model.predict_proba(X)\n",
        "# keep probabilities for the positive outcome only\n",
        "yhat = yhat[:, 1]\n",
        "\n",
        "y_predictions = yhat >= best_threshold\n",
        "y_predictions = [y.astype(int) for y in y_predictions]"
      ],
      "metadata": {
        "id": "PufOA0-0qg9X"
      },
      "execution_count": 46,
      "outputs": []
    },
    {
      "cell_type": "code",
      "source": [
        "from sklearn.metrics import confusion_matrix, accuracy_score\n",
        "\n",
        "confusion_matrix(y, y_predictions)"
      ],
      "metadata": {
        "colab": {
          "base_uri": "https://localhost:8080/"
        },
        "id": "8qcS4TMyrl2F",
        "outputId": "9aac14b8-8bbc-4c87-8f6d-c4cb74e31763"
      },
      "execution_count": 47,
      "outputs": [
        {
          "output_type": "execute_result",
          "data": {
            "text/plain": [
              "array([[320, 161],\n",
              "       [261, 244]])"
            ]
          },
          "metadata": {},
          "execution_count": 47
        }
      ]
    },
    {
      "cell_type": "code",
      "source": [
        "accuracy_score(y, y_predictions)"
      ],
      "metadata": {
        "colab": {
          "base_uri": "https://localhost:8080/"
        },
        "id": "QlcBHB2Srn2o",
        "outputId": "fc9d57f7-2138-4886-92c2-8255aa37138f"
      },
      "execution_count": 48,
      "outputs": [
        {
          "output_type": "execute_result",
          "data": {
            "text/plain": [
              "0.5720081135902637"
            ]
          },
          "metadata": {},
          "execution_count": 48
        }
      ]
    },
    {
      "cell_type": "markdown",
      "metadata": {
        "id": "hbQwQRNXIgO0"
      },
      "source": [
        "## Evaluating on Test Data"
      ]
    },
    {
      "cell_type": "code",
      "execution_count": 49,
      "metadata": {
        "id": "RAZRn4FbHI2w"
      },
      "outputs": [],
      "source": [
        "import torch\n",
        "from torch.utils.data import DataLoader, TensorDataset\n",
        "from scipy import stats\n",
        "\n",
        "split_bios = read_bios('/content/NLP-DL-Group2/hw#1/mix.test.txt', True)\n",
        "windows = create_windows(split_bios, 3)\n",
        "\n",
        "all_sliding_windows = [item[0] for item in windows]\n",
        "all_bio_labels = [item[1] for item in windows]\n",
        "\n",
        "BATCH_SIZE = 64"
      ]
    },
    {
      "cell_type": "code",
      "execution_count": 50,
      "metadata": {
        "id": "aEjltWCNG9CG"
      },
      "outputs": [],
      "source": [
        "# Now that we know the best threshold, we can apply that threshold to the test dataset\n",
        "\n",
        "probabilities = []\n",
        "\n",
        "for i in range(len(all_sliding_windows)):\n",
        "  all_sliding_windows_for_bio = all_sliding_windows[i]\n",
        "  context, true_words = make_context_and_true_words_per_bio(all_sliding_windows_for_bio)\n",
        "\n",
        "  bio_label = all_bio_labels[i]\n",
        "\n",
        "  # Each bio has a probability table (mapping words to their probabilities, given the sequence)\n",
        "  log_probability_tables = model(context)\n",
        "\n",
        "  normal_probabilities = torch.FloatTensor([])\n",
        "\n",
        "  for idx_curr_context, probability_distributions_for_each_context in enumerate(log_probability_tables):\n",
        "    true_word_for_curr_context = true_words[idx_curr_context]\n",
        "    probability_for_true_word = probability_distributions_for_each_context[true_word_for_curr_context]\n",
        "    probability_for_predicted_word = torch.max(probability_distributions_for_each_context)\n",
        "\n",
        "    probability_normalized = (probability_for_predicted_word - probability_for_true_word) / (probability_for_predicted_word + 1e-9)\n",
        "\n",
        "    normal_probabilities = torch.cat([normal_probabilities, probability_normalized])\n",
        "\n",
        "  # Trimming mean by 0.05 (from each side) and dividing by the length\n",
        "  trimmed_mean = stats.trim_mean(normal_probabilities.detach().numpy(), 0.05) / len(log_probability_tables)\n",
        "\n",
        "  probabilities.append((trimmed_mean, bio_label))"
      ]
    },
    {
      "cell_type": "code",
      "execution_count": 51,
      "metadata": {
        "id": "GX0tNwRDI165"
      },
      "outputs": [],
      "source": [
        "X, y = [item[0] for item in probabilities], [item[1] for item in probabilities]\n",
        "X = np.array(X).reshape(-1, 1)\n",
        "\n",
        "# predict probabilities\n",
        "yhat = lg_model.predict_proba(X)\n",
        "# keep probabilities for the positive outcome only\n",
        "yhat = yhat[:, 1]\n",
        "\n",
        "y_predictions = yhat >= best_threshold\n",
        "y_predictions = [y.astype(int) for y in y_predictions]"
      ]
    },
    {
      "cell_type": "code",
      "execution_count": 52,
      "metadata": {
        "colab": {
          "base_uri": "https://localhost:8080/"
        },
        "id": "8Q1Nq9x4I8ii",
        "outputId": "4c0b9d18-b227-42ce-978c-884c01d38a5c"
      },
      "outputs": [
        {
          "output_type": "execute_result",
          "data": {
            "text/plain": [
              "array([[345, 202],\n",
              "       [267, 238]])"
            ]
          },
          "metadata": {},
          "execution_count": 52
        }
      ],
      "source": [
        "confusion_matrix(y, y_predictions)"
      ]
    },
    {
      "cell_type": "code",
      "execution_count": 53,
      "metadata": {
        "colab": {
          "base_uri": "https://localhost:8080/"
        },
        "id": "39O6o1tN0gmd",
        "outputId": "5c005ba5-01aa-47f4-e320-858557f790c2"
      },
      "outputs": [
        {
          "output_type": "execute_result",
          "data": {
            "text/plain": [
              "0.5541825095057035"
            ]
          },
          "metadata": {},
          "execution_count": 53
        }
      ],
      "source": [
        "accuracy_score(y, y_predictions)"
      ]
    }
  ],
  "metadata": {
    "colab": {
      "provenance": [],
      "include_colab_link": true
    },
    "kernelspec": {
      "display_name": "Python 3 (ipykernel)",
      "language": "python",
      "name": "python3"
    },
    "language_info": {
      "codemirror_mode": {
        "name": "ipython",
        "version": 3
      },
      "file_extension": ".py",
      "mimetype": "text/x-python",
      "name": "python",
      "nbconvert_exporter": "python",
      "pygments_lexer": "ipython3",
      "version": "3.10.9"
    }
  },
  "nbformat": 4,
  "nbformat_minor": 0
}