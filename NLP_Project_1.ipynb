{
  "nbformat": 4,
  "nbformat_minor": 0,
  "metadata": {
    "colab": {
      "provenance": [],
      "include_colab_link": true
    },
    "kernelspec": {
      "name": "python3",
      "display_name": "Python 3"
    },
    "language_info": {
      "name": "python"
    }
  },
  "cells": [
    {
      "cell_type": "markdown",
      "metadata": {
        "id": "view-in-github",
        "colab_type": "text"
      },
      "source": [
        "<a href=\"https://colab.research.google.com/github/AnshulH/NLP-DL-Group2/blob/main/NLP_Project_1.ipynb\" target=\"_parent\"><img src=\"https://colab.research.google.com/assets/colab-badge.svg\" alt=\"Open In Colab\"/></a>"
      ]
    },
    {
      "cell_type": "code",
      "execution_count": null,
      "metadata": {
        "colab": {
          "base_uri": "https://localhost:8080/"
        },
        "id": "wzxFrdmmwsuk",
        "outputId": "69cce8df-4c58-4f3a-8420-ecba791d882b"
      },
      "outputs": [
        {
          "output_type": "stream",
          "name": "stdout",
          "text": [
            "rm: cannot remove '/content/NLP-DL-Group2/': No such file or directory\n",
            "Cloning into 'NLP-DL-Group2'...\n",
            "Host key verification failed.\n",
            "fatal: Could not read from remote repository.\n",
            "\n",
            "Please make sure you have the correct access rights\n",
            "and the repository exists.\n"
          ]
        }
      ],
      "source": [
        "!rm -r /content/NLP-DL-Group2/\n",
        "!cd /content && git clone git@github.com:AnshulH/NLP-DL-Group2.git"
      ]
    },
    {
      "cell_type": "code",
      "source": [
        "!python3 /content/NLP-DL-Group2/hw#1/starter.py"
      ],
      "metadata": {
        "colab": {
          "base_uri": "https://localhost:8080/"
        },
        "id": "Y2Ivha7o0wxn",
        "outputId": "c79799a2-c687-4f76-b5c9-216bb9b3fe5d"
      },
      "execution_count": null,
      "outputs": [
        {
          "output_type": "stream",
          "name": "stdout",
          "text": [
            "vocab: 44223 train: 3366260\n",
            "vocab: 44223 test: 3366260\n",
            "Namespace(batch_size=20, clip=2.0, d_hidden=100, d_model=100, dropout=0.35, epochs=20, loadname=None, lr=0.0001, model='LSTM', n_layers=2, printevery=5000, savename='lstm', seq_len=30, testname='/content/NLP-DL-Group2/hw#1/mix.train.txt', trainname='/content/NLP-DL-Group2/hw#1/mix.train.txt', validname='/content/NLP-DL-Group2/hw#1/mix.train.txt', vocab_size=44223, window=3)\n"
          ]
        }
      ]
    }
  ]
}