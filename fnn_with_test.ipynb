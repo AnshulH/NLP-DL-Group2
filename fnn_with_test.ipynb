{
  "cells": [
    {
      "cell_type": "code",
      "execution_count": 16,
      "metadata": {
        "colab": {
          "base_uri": "https://localhost:8080/"
        },
        "id": "U7U7h5_g6HQj",
        "outputId": "465e936a-2ecd-4373-f215-23aa00b9d728",
        "scrolled": true
      },
      "outputs": [
        {
          "output_type": "stream",
          "name": "stdout",
          "text": [
            "rm: cannot remove '/content/NLP-DL-Group2/': No such file or directory\n",
            "Cloning into 'NLP-DL-Group2'...\n",
            "remote: Enumerating objects: 99, done.\u001b[K\n",
            "remote: Counting objects: 100% (53/53), done.\u001b[K\n",
            "remote: Compressing objects: 100% (46/46), done.\u001b[K\n",
            "remote: Total 99 (delta 21), reused 19 (delta 5), pack-reused 46\u001b[K\n",
            "Unpacking objects: 100% (99/99), 30.81 MiB | 5.46 MiB/s, done.\n"
          ]
        }
      ],
      "source": [
        "!rm -r /content/NLP-DL-Group2/\n",
        "!cd /content && git clone -b fnn https://github.com/AnshulH/NLP-DL-Group2"
      ]
    },
    {
      "cell_type": "code",
      "execution_count": 18,
      "metadata": {
        "id": "xOWdVCUmfJZ5"
      },
      "outputs": [],
      "source": [
        "import torch\n",
        "import torch.nn.functional as F\n",
        "import torch.nn as nn\n",
        "import torch.optim as optim\n",
        "import math\n",
        "import time\n",
        "import numpy as np\n",
        "import sys\n",
        "import argparse\n",
        "import os\n",
        "import re\n",
        "from nltk.util import ngrams"
      ]
    },
    {
      "cell_type": "code",
      "execution_count": 25,
      "metadata": {
        "id": "0E1tgVr_fJZ6"
      },
      "outputs": [],
      "source": [
        "def decode(vocab,corpus):\n",
        "    \n",
        "    text = ''\n",
        "    for i in range(len(corpus)):\n",
        "        wID = corpus[i]\n",
        "        text = text + vocab[wID] + ' '\n",
        "    return(text)\n",
        "\n",
        "def encode(words,text):\n",
        "    corpus = []\n",
        "    tokens = text.split(' ')\n",
        "    for t in tokens:\n",
        "        try:\n",
        "            wID = words[t][0]\n",
        "        except:\n",
        "            wID = words['<unk>'][0]\n",
        "        corpus.append(wID)\n",
        "    return(corpus)\n",
        "\n",
        "def read_encode(file_name,vocab,words,corpus,threshold):\n",
        "    \n",
        "    wID = len(vocab)\n",
        "    \n",
        "    if threshold > -1:\n",
        "        with open(file_name,'rt', encoding='utf8') as f:\n",
        "            for line in f:\n",
        "                line = line.replace('\\n','')\n",
        "                # Added lower-casing\n",
        "                line = line.lower()\n",
        "                \n",
        "                # Strips out all charcters other than alphanumeric\n",
        "                line = re.sub('[\\W_]+', ' ', line, flags=re.UNICODE)\n",
        "                \n",
        "                # Strips out numbers\n",
        "                line = re.sub('\\d+', '', line)\n",
        "                \n",
        "                tokens = line.split(' ')\n",
        "                for t in tokens:\n",
        "                    try:\n",
        "                        elem = words[t]\n",
        "                    except:\n",
        "                        elem = [wID,0]\n",
        "                        vocab.append(t)\n",
        "                        wID = wID + 1\n",
        "                    elem[1] = elem[1] + 1\n",
        "                    words[t] = elem\n",
        "\n",
        "        temp = words\n",
        "        words = {}\n",
        "        vocab = []\n",
        "        wID = 0\n",
        "        words['<unk>'] = [wID,100]\n",
        "        vocab.append('<unk>')\n",
        "        for t in temp:\n",
        "            if temp[t][1] >= threshold:\n",
        "                vocab.append(t)\n",
        "                wID = wID + 1\n",
        "                words[t] = [wID,temp[t][1]]\n",
        "            \n",
        "                    \n",
        "    with open(file_name,'rt', encoding='utf8') as f:\n",
        "        for line in f:\n",
        "            line = line.replace('\\n','')\n",
        "            tokens = line.split(' ')\n",
        "            for t in tokens:\n",
        "                try:\n",
        "                    wID = words[t][0]\n",
        "                except:\n",
        "                    wID = words['<unk>'][0]\n",
        "                corpus.append(wID)\n",
        "                \n",
        "    return [vocab,words,corpus]"
      ]
    },
    {
      "cell_type": "code",
      "execution_count": 26,
      "metadata": {
        "id": "z4YDBcnYft_l",
        "colab": {
          "base_uri": "https://localhost:8080/"
        },
        "outputId": "27bbc44b-e243-4517-ec5f-0087e584a062"
      },
      "outputs": [
        {
          "output_type": "stream",
          "name": "stdout",
          "text": [
            "vocab: 33633 train: 3366260\n",
            "vocab: 33633 test: 441210\n"
          ]
        }
      ],
      "source": [
        "params = {\n",
        "        'd_model': 100,\n",
        "        'd_hidden': 100,\n",
        "        'n_layers': 2,\n",
        "        'batch_size': 20,\n",
        "        'seq_len': 30,\n",
        "        'printevery': 5000,\n",
        "        'window': 3,\n",
        "        'epochs': 20,\n",
        "        'lr': 0.0001,\n",
        "        'dropout': 0.35,\n",
        "        'clip': 2.0,\n",
        "        'model': 'FFNN',\n",
        "        'savename': 'lstm',\n",
        "        'loadname': None,\n",
        "        'trainname': '/content/NLP-DL-Group2/hw#1/mix.train.txt',\n",
        "        'validname': '/content/NLP-DL-Group2/hw#1/mix.valid.txt',\n",
        "        'testname': '/content/NLP-DL-Group2/hw#1/mix.test.txt'\n",
        "    }\n",
        "torch.manual_seed(0)\n",
        "\n",
        "[vocab,words,train] = read_encode(params['trainname'],[],{},[],3)\n",
        "print('vocab: %d train: %d' % (len(vocab), len(train)))\n",
        "[vocab,words,test] = read_encode(params['testname'], vocab,words,[],-1)\n",
        "print('vocab: %d test: %d' % (len(vocab),len(test)))\n",
        "params['vocab_size'] = len(vocab)"
      ]
    },
    {
      "cell_type": "code",
      "execution_count": 14,
      "metadata": {
        "id": "QlXXhar6gIZD"
      },
      "outputs": [],
      "source": [
        "# Returns bios in [(bio without puncutation, label), ...]\n",
        "# 0: FAKE\n",
        "# 1: REAL\n",
        "def read_bios(file_name, labels=False):\n",
        "    with open(file_name,'rt', encoding='utf8') as f:\n",
        "        all_bios = f.readlines()\n",
        "        \n",
        "    split_bios = []\n",
        "    curr_bio = \"\"\n",
        "    curr_index = 0\n",
        "    while curr_index < len(all_bios):\n",
        "        curr_line = all_bios[curr_index].lower()\n",
        "        # Strips out all charcters other than alphanumeric\n",
        "        curr_line = re.sub('[\\W_]+', ' ', curr_line, flags=re.UNICODE)\n",
        "        \n",
        "        # Strips out numbers\n",
        "        curr_line = re.sub('\\d+', '', curr_line)\n",
        "        \n",
        "        curr_line = curr_line.strip()\n",
        "        \n",
        "        if curr_line == \"start bio\":\n",
        "            # Skips their name\n",
        "            curr_index += 1\n",
        "        \n",
        "        elif curr_line == \"end bio\":\n",
        "          if labels:\n",
        "            curr_index += 2\n",
        "            if \"FAKE\" in all_bios[curr_index]:\n",
        "                label = 0\n",
        "            else:\n",
        "                label = 1\n",
        "\n",
        "            split_bios.append((curr_bio, label))\n",
        "            curr_bio = \"\"\n",
        "          \n",
        "          else:\n",
        "            split_bios.append((curr_bio, 0))\n",
        "            curr_bio = \"\"\n",
        "        \n",
        "        else:\n",
        "            # Check to ensure not empty space\n",
        "            if curr_line:\n",
        "                if curr_bio == \"\":\n",
        "                    curr_bio = curr_line\n",
        "                else:\n",
        "                    curr_bio += \" \" + curr_line\n",
        "        \n",
        "        curr_index += 1\n",
        "        \n",
        "    \n",
        "    return split_bios\n",
        "    \n",
        "# split_bios = read_bios(params['trainname'], True)"
      ]
    },
    {
      "cell_type": "code",
      "execution_count": 21,
      "metadata": {
        "id": "cxU-2zc_gJ5A"
      },
      "outputs": [],
      "source": [
        "# Create windows\n",
        "# split_bios: [(bio without puncutation, label), ...]\n",
        "# Returns sliding windows (multiple per biography):\n",
        "# [\n",
        "#  [\n",
        "#   (['Hildebrand', 'Bothe', 'October'], 'September'),\n",
        "#   (['Bothe', 'October', 'September'], 'was'),\n",
        "#  ],\n",
        "#  [\n",
        "#   ([Hermann', 'Robert', 'Kaiser'], 'September'),\n",
        "#   ...\n",
        "#  ]\n",
        "# ]\n",
        "\n",
        "# Reference: https://pytorch.org/tutorials/beginner/nlp/word_embeddings_tutorial.html\n",
        "def create_windows(split_bios, window_size):\n",
        "    sliding_windows = []\n",
        "    for bio, label in split_bios:\n",
        "        bio_without_nums = ''.join([i for i in bio if not i.isdigit()])\n",
        "        tokens = [token for token in bio_without_nums.split(\" \") if token != \"\"]\n",
        "        \n",
        "        ngrams = []\n",
        "        for i in range(len(tokens) - window_size):\n",
        "            ngrams.append((\n",
        "                [tokens[i + j] for j in range(window_size)],\n",
        "                tokens[i + window_size]\n",
        "            ))\n",
        "        \n",
        "        sliding_windows.append((ngrams, label))\n",
        "    \n",
        "    return sliding_windows\n",
        "\n",
        "# windows = create_windows(split_bios, 3)"
      ]
    },
    {
      "cell_type": "code",
      "execution_count": 36,
      "metadata": {
        "id": "eWA2aWKAgLa7"
      },
      "outputs": [],
      "source": [
        "def create_context_and_next_words(windows):\n",
        "  all_context = []\n",
        "  all_next_words = []\n",
        "  skipped_labels = 0\n",
        "\n",
        "  for (each_bio, bio_label) in windows:\n",
        "    # Considering only fake windows for training the model\n",
        "    if bio_label == 0:\n",
        "      for context, label in each_bio:\n",
        "          found_in_words = [word in words for word in context]\n",
        "          found_in_words.extend([label in words])\n",
        "          if all(found_in_words):\n",
        "              all_context.append([words[word][0] for word in context])\n",
        "              all_next_words.append([words[label][0]])\n",
        "          else:\n",
        "              all_context.append([0] * len(context))\n",
        "              all_next_words.append([0])\n",
        "              \n",
        "              skipped_labels += 1\n",
        "\n",
        "  return torch.LongTensor(all_context), torch.LongTensor(all_next_words)\n",
        "\n",
        "# Skipping certain sliding windows because they weren't found in the dictionary\n",
        "# Unk'd?\n",
        "# print(skipped_labels)\n",
        "\n",
        "all_context_for_fake_bios, all_next_words_for_fake_bios = create_context_and_next_words(windows)"
      ]
    },
    {
      "cell_type": "code",
      "execution_count": 37,
      "metadata": {
        "id": "0ceIec6IgSrj"
      },
      "outputs": [],
      "source": [
        "import torch\n",
        "from torch.utils.data import DataLoader, TensorDataset\n",
        "\n",
        "BATCH_SIZE = 64\n",
        "\n",
        "dataset = TensorDataset(all_context_for_fake_bios, all_next_words_for_fake_bios)\n",
        "dataloader = DataLoader(dataset, batch_size=BATCH_SIZE, shuffle=True)"
      ]
    },
    {
      "cell_type": "code",
      "execution_count": 1,
      "metadata": {
        "colab": {
          "base_uri": "https://localhost:8080/"
        },
        "id": "1_irXR35lui0",
        "outputId": "e256ecdb-a657-4624-dbe4-366f2b2bd25b"
      },
      "outputs": [
        {
          "output_type": "stream",
          "name": "stdout",
          "text": [
            "Mounted at /content/gdrive\n"
          ]
        }
      ],
      "source": [
        "from google.colab import drive\n",
        "drive.mount('/content/gdrive')"
      ]
    },
    {
      "cell_type": "code",
      "execution_count": 30,
      "metadata": {
        "id": "GB_oPsO4xrxH"
      },
      "outputs": [],
      "source": [
        "class FFNN(nn.Module):\n",
        "    # d_model = embedding dimensions\n",
        "    def __init__(self, vocab, words,d_model, d_hidden, dropout):\n",
        "        super().__init__() \n",
        "    \n",
        "        self.vocab = vocab\n",
        "        self.words = words\n",
        "        self.vocab_size = len(self.vocab)\n",
        "        self.d_model = d_model\n",
        "        self.d_hidden = d_hidden\n",
        "        self.dropout = dropout\n",
        "        self.embeds = nn.Embedding(self.vocab_size,d_model)\n",
        "        \n",
        "        # Context size * dimensions for input\n",
        "        # Hidden layer neurons was more difficult to find information\n",
        "        self.linear1 = nn.Linear(3 * d_model, 512)\n",
        "        self.linear2 = nn.Linear(512, self.vocab_size)\n",
        "\n",
        "    def forward(self, src):\n",
        "        embeds = self.embeds(src).view((BATCH_SIZE, -1))\n",
        "        out = F.relu(self.linear1(embeds))\n",
        "        out = self.linear2(out)\n",
        "        log_probs = F.log_softmax(out, dim=1)\n",
        "        return log_probs\n",
        "\n",
        "    def lookup(self, src):\n",
        "        embeds = self.embeds(src).flatten(1, 2)\n",
        "        out = F.relu(self.linear1(embeds))\n",
        "        out = self.linear2(out)\n",
        "        log_probs = F.log_softmax(out, dim=1)\n",
        "        return log_probs\n",
        "                \n",
        "    def init_weights(self):\n",
        "        pass"
      ]
    },
    {
      "cell_type": "code",
      "execution_count": 29,
      "metadata": {
        "colab": {
          "base_uri": "https://localhost:8080/",
          "height": 240
        },
        "id": "MefYYvncgN54",
        "outputId": "c86e6f43-6f25-4add-967c-2e70b6f7278d"
      },
      "outputs": [
        {
          "output_type": "error",
          "ename": "NameError",
          "evalue": "ignored",
          "traceback": [
            "\u001b[0;31m---------------------------------------------------------------------------\u001b[0m",
            "\u001b[0;31mNameError\u001b[0m                                 Traceback (most recent call last)",
            "\u001b[0;32m<ipython-input-29-a751297af2ea>\u001b[0m in \u001b[0;36m<module>\u001b[0;34m\u001b[0m\n\u001b[1;32m      1\u001b[0m \u001b[0;31m# AFTER BATCHING\u001b[0m\u001b[0;34m\u001b[0m\u001b[0;34m\u001b[0m\u001b[0;34m\u001b[0m\u001b[0m\n\u001b[1;32m      2\u001b[0m \u001b[0;34m\u001b[0m\u001b[0m\n\u001b[0;32m----> 3\u001b[0;31m \u001b[0mmodel\u001b[0m \u001b[0;34m=\u001b[0m \u001b[0mFFNN\u001b[0m\u001b[0;34m(\u001b[0m\u001b[0mvocab\u001b[0m\u001b[0;34m,\u001b[0m \u001b[0mwords\u001b[0m\u001b[0;34m,\u001b[0m \u001b[0md_model\u001b[0m\u001b[0;34m=\u001b[0m\u001b[0;36m100\u001b[0m\u001b[0;34m,\u001b[0m \u001b[0md_hidden\u001b[0m\u001b[0;34m=\u001b[0m\u001b[0;36m100\u001b[0m\u001b[0;34m,\u001b[0m \u001b[0mdropout\u001b[0m\u001b[0;34m=\u001b[0m\u001b[0;36m0.1\u001b[0m\u001b[0;34m)\u001b[0m\u001b[0;34m\u001b[0m\u001b[0;34m\u001b[0m\u001b[0m\n\u001b[0m\u001b[1;32m      4\u001b[0m \u001b[0moptimizer\u001b[0m \u001b[0;34m=\u001b[0m \u001b[0mtorch\u001b[0m\u001b[0;34m.\u001b[0m\u001b[0moptim\u001b[0m\u001b[0;34m.\u001b[0m\u001b[0mAdam\u001b[0m\u001b[0;34m(\u001b[0m\u001b[0mmodel\u001b[0m\u001b[0;34m.\u001b[0m\u001b[0mparameters\u001b[0m\u001b[0;34m(\u001b[0m\u001b[0;34m)\u001b[0m\u001b[0;34m,\u001b[0m \u001b[0mlr\u001b[0m\u001b[0;34m=\u001b[0m\u001b[0;36m0.001\u001b[0m\u001b[0;34m)\u001b[0m\u001b[0;34m\u001b[0m\u001b[0;34m\u001b[0m\u001b[0m\n\u001b[1;32m      5\u001b[0m \u001b[0;34m\u001b[0m\u001b[0m\n",
            "\u001b[0;31mNameError\u001b[0m: name 'FFNN' is not defined"
          ]
        }
      ],
      "source": [
        "# AFTER BATCHING\n",
        "\n",
        "model = FFNN(vocab, words, d_model=100, d_hidden=100, dropout=0.1)\n",
        "optimizer = torch.optim.Adam(model.parameters(), lr=0.001)\n",
        "\n",
        "# checkpoint = torch.load('/content/gdrive/My Drive/fnn.pt')\n",
        "# model.load_state_dict(checkpoint['model_state_dict'])\n",
        "# optimizer.load_state_dict(checkpoint['optimizer_state_dict'])\n",
        "# model.eval()\n",
        "\n",
        "# model = FFNN(vocab, words, d_model=100, d_hidden=100, dropout=0.1)\n",
        "loss_function = nn.NLLLoss()\n",
        "optimizer = torch.optim.Adam(model.parameters(), lr=0.001)\n",
        "\n",
        "for epoch in range(10):\n",
        "    running_loss = 0\n",
        "    for i, (context, label) in enumerate(dataloader):\n",
        "        log_probabilities = model(context)\n",
        "        # Collapsing labels to correct dimensions\n",
        "        label = label.squeeze()\n",
        "        loss = loss_function(log_probabilities, label)\n",
        "        \n",
        "        loss.backward()\n",
        "        optimizer.step()\n",
        "        \n",
        "        model.zero_grad()\n",
        "        \n",
        "        running_loss += loss.item()\n",
        "\n",
        "        if i % 500 == 499:\n",
        "            last_loss = running_loss / 500 # loss per batch\n",
        "            print('  batch {} loss: {}'.format(i + 1, last_loss))\n",
        "            running_loss = 0.\n",
        "            \n",
        "            torch.save({\n",
        "                'epoch': epoch,\n",
        "                'batch': i,\n",
        "                'model_state_dict': model.state_dict(),\n",
        "                'optimizer_state_dict': optimizer.state_dict(),\n",
        "                'loss': loss,\n",
        "                }, \"/content/gdrive/My Drive/fnn_batch500_epoch10_mixed.pt\")\n",
        "            \n",
        "            break\n",
        "        \n",
        "    print(\"Epoch {}/{}: Loss {:.4f}\".format(epoch, 10, loss))\n",
        "    \n",
        "print(\"Finished!\")"
      ]
    },
    {
      "cell_type": "markdown",
      "source": [
        "At batch 500, epoch 10, 34m 36s to run"
      ],
      "metadata": {
        "id": "2AfX4lsh-8LL"
      }
    },
    {
      "cell_type": "code",
      "source": [
        "model = FFNN(vocab, words, d_model=100, d_hidden=100, dropout=0.1)\n",
        "optimizer = torch.optim.Adam(model.parameters(), lr=0.001)\n",
        "\n",
        "checkpoint = torch.load('/content/gdrive/MyDrive/fnn_batch500_epoch10_mixed.pt')\n",
        "model.load_state_dict(checkpoint['model_state_dict'])\n",
        "optimizer.load_state_dict(checkpoint['optimizer_state_dict'])\n",
        "model.eval()"
      ],
      "metadata": {
        "colab": {
          "base_uri": "https://localhost:8080/"
        },
        "id": "ZlKVV6p8P47I",
        "outputId": "882a693c-f94d-410b-f27d-8f2543f7d401"
      },
      "execution_count": 46,
      "outputs": [
        {
          "output_type": "execute_result",
          "data": {
            "text/plain": [
              "FFNN(\n",
              "  (embeds): Embedding(33633, 100)\n",
              "  (linear1): Linear(in_features=300, out_features=512, bias=True)\n",
              "  (linear2): Linear(in_features=512, out_features=33633, bias=True)\n",
              ")"
            ]
          },
          "metadata": {},
          "execution_count": 46
        }
      ]
    },
    {
      "cell_type": "code",
      "execution_count": 47,
      "metadata": {
        "id": "WdoyNaubyhkm"
      },
      "outputs": [],
      "source": [
        "import torch\n",
        "from torch.utils.data import DataLoader, TensorDataset\n",
        "\n",
        "split_bios = read_bios('/content/NLP-DL-Group2/hw#1/mix.train.txt', True)\n",
        "windows = create_windows(split_bios, 3)\n",
        "\n",
        "all_sliding_windows = [item[0] for item in windows]\n",
        "all_bio_labels = [item[1] for item in windows]\n",
        "\n",
        "BATCH_SIZE = 64"
      ]
    },
    {
      "cell_type": "code",
      "source": [
        "# Makes context + true words for each given bio\n",
        "# @param: pass it the sliding windows of a given bio\n",
        "# sliding window is a list of pairs\n",
        "# [(['hildebrand', 'bothe', 'october'], 'september'), (['bothe', 'october', 'september'], 'was'), ...]\n",
        "\n",
        "def make_context_and_true_words_per_bio(bio):\n",
        "  all_context = []\n",
        "  all_next_words = []\n",
        "\n",
        "  for context, label in bio:\n",
        "      found_in_words = [word in words for word in context]\n",
        "      found_in_words.extend([label in words])\n",
        "      if all(found_in_words):\n",
        "          all_context.append([words[word][0] for word in context])\n",
        "          all_next_words.append([words[label][0]])\n",
        "      else:\n",
        "          all_context.append([0] * len(context))\n",
        "          all_next_words.append([0])\n",
        "\n",
        "    # Random edge case on line 42422 of the bios...\n",
        "  if all_context == [] and all_next_words == []:\n",
        "    all_context.append([0] * 3)\n",
        "    all_next_words.append([0])\n",
        "\n",
        "  return torch.LongTensor(all_context), torch.LongTensor(all_next_words)"
      ],
      "metadata": {
        "id": "1299MIfZHfsE"
      },
      "execution_count": 48,
      "outputs": []
    },
    {
      "cell_type": "markdown",
      "source": [
        "For some reason, this is a bio.\n",
        "```\n",
        "<start_bio> \n",
        " = Zulus =  \n",
        "<end_bio> \n",
        "\n",
        "[FAKE]\n",
        "```"
      ],
      "metadata": {
        "id": "lUX3T-5vYDY7"
      }
    },
    {
      "cell_type": "code",
      "source": [
        "from scipy import stats"
      ],
      "metadata": {
        "id": "zxW0LuDQAYmJ"
      },
      "execution_count": 49,
      "outputs": []
    },
    {
      "cell_type": "code",
      "source": [
        "# [(probability, label), ...]\n",
        "# [(0.05, 0), ...]\n",
        "probabilities = []\n",
        "\n",
        "for i in range(len(all_sliding_windows)):\n",
        "  all_sliding_windows_for_bio = all_sliding_windows[i]\n",
        "  context, true_words = make_context_and_true_words_per_bio(all_sliding_windows_for_bio)\n",
        "\n",
        "  bio_label = all_bio_labels[i]\n",
        "\n",
        "  # Each bio has a probability table (mapping words to their probabilities, given the sequence)\n",
        "  log_probability_tables = model.lookup(context)\n",
        "\n",
        "  curr_probabilities = torch.FloatTensor([])\n",
        "\n",
        "  for idx_curr_context, curr_context in enumerate(log_probability_tables):\n",
        "    true_word_for_curr_context = true_words[idx_curr_context]\n",
        "    probability_for_true_word = curr_context[true_word_for_curr_context]\n",
        "    curr_probabilities = torch.cat([curr_probabilities, probability_for_true_word])\n",
        "\n",
        "  # Trimming mean by 0.1 (from each side) and dividing by the length\n",
        "  trimmed_mean = stats.trim_mean(curr_probabilities.detach().numpy(), 0.1) / len(log_probability_tables)\n",
        "  \n",
        "  probabilities.append((trimmed_mean, bio_label))"
      ],
      "metadata": {
        "id": "LM3vj3vayx_9"
      },
      "execution_count": 50,
      "outputs": []
    },
    {
      "cell_type": "code",
      "source": [
        "import pickle\n",
        "\n",
        "with open(\"/content/gdrive/My Drive/probabilities_fnn_batch500_epoch10_mixed\", \"wb\") as fp:   #Pickling\n",
        "  pickle.dump(probabilities, fp)"
      ],
      "metadata": {
        "id": "xXPmLH81gRcN"
      },
      "execution_count": 51,
      "outputs": []
    },
    {
      "cell_type": "markdown",
      "source": [
        "## Evaluating on Training Data"
      ],
      "metadata": {
        "id": "_owJF_JWKlrJ"
      }
    },
    {
      "cell_type": "code",
      "source": [
        "import pickle\n",
        "\n",
        "with open('/content/gdrive/My Drive/probabilities_fnn_batch500_epoch10_mixed', 'rb') as fp:\n",
        "    probabilities_trained = pickle.load(fp)"
      ],
      "metadata": {
        "id": "BIIZ9w82Fk1e"
      },
      "execution_count": 67,
      "outputs": []
    },
    {
      "cell_type": "code",
      "source": [
        "import matplotlib.pyplot as plt\n",
        "import numpy as np\n",
        "import math\n",
        "\n",
        "plt.style.use('seaborn-deep')\n",
        "\n",
        "probabilites_true = [item[0] for item in probabilities_trained if item[1] == 1]\n",
        "probabilites_fake = [item[0] for item in probabilities_trained if item[1] == 0]\n",
        "\n",
        "min_bound = math.floor(min(min(probabilites_true), min(probabilites_fake)))\n",
        "\n",
        "x = probabilites_true\n",
        "y = probabilites_fake\n",
        "bins = np.linspace(min_bound, 0, 30)\n",
        "\n",
        "plt.hist([x, y], bins, label=['true', 'fake'])\n",
        "plt.legend(loc='upper left')\n",
        "plt.show()"
      ],
      "metadata": {
        "colab": {
          "base_uri": "https://localhost:8080/",
          "height": 356
        },
        "id": "av2hyyxES1Fu",
        "outputId": "0f9beeca-55b3-4c8d-ccef-06b379b49c3f"
      },
      "execution_count": 53,
      "outputs": [
        {
          "output_type": "stream",
          "name": "stderr",
          "text": [
            "/usr/local/lib/python3.8/dist-packages/numpy/core/fromnumeric.py:3208: VisibleDeprecationWarning: Creating an ndarray from ragged nested sequences (which is a list-or-tuple of lists-or-tuples-or ndarrays with different lengths or shapes) is deprecated. If you meant to do this, you must specify 'dtype=object' when creating the ndarray.\n",
            "  return asarray(a).size\n",
            "/usr/local/lib/python3.8/dist-packages/matplotlib/cbook/__init__.py:1376: VisibleDeprecationWarning: Creating an ndarray from ragged nested sequences (which is a list-or-tuple of lists-or-tuples-or ndarrays with different lengths or shapes) is deprecated. If you meant to do this, you must specify 'dtype=object' when creating the ndarray.\n",
            "  X = np.atleast_1d(X.T if isinstance(X, np.ndarray) else np.asarray(X))\n"
          ]
        },
        {
          "output_type": "display_data",
          "data": {
            "text/plain": [
              "<Figure size 432x288 with 1 Axes>"
            ],
            "image/png": "[encoded data removed]"
          },
          "metadata": {
            "needs_background": "light"
          }
        }
      ]
    },
    {
      "cell_type": "code",
      "source": [
        "# https://machinelearningmastery.com/threshold-moving-for-imbalanced-classification/\n",
        "# roc curve for logistic regression model with optimal threshold\n",
        "import numpy as np\n",
        "from numpy import sqrt\n",
        "from numpy import argmax\n",
        "from sklearn.datasets import make_classification\n",
        "from sklearn.linear_model import LogisticRegression\n",
        "from sklearn.model_selection import train_test_split\n",
        "from sklearn.metrics import roc_curve\n",
        "from matplotlib import pyplot\n",
        "\n",
        "# generate dataset\n",
        "X, y = [item[0] for item in probabilities_trained], [item[1] for item in probabilities_trained]\n",
        "\n",
        "# split into train/test sets\n",
        "trainX, testX, trainy, testy = train_test_split(X, y, test_size=0.2, random_state=2, stratify=y)\n",
        "trainX = np.array(trainX).reshape(-1, 1)\n",
        "testX = np.array(testX).reshape(-1, 1)\n",
        "\n",
        "# fit a model\n",
        "lg_model = LogisticRegression(solver='lbfgs')\n",
        "lg_model.fit(trainX, trainy)\n",
        "\n",
        "# predict probabilities\n",
        "yhat = lg_model.predict_proba(testX)\n",
        "# keep probabilities for the positive outcome only\n",
        "yhat = yhat[:, 1]\n",
        "\n",
        "# calculate roc curves\n",
        "fpr, tpr, thresholds = roc_curve(testy, yhat)\n",
        "\n",
        "# calculate the g-mean for each threshold\n",
        "gmeans = sqrt(tpr * (1-fpr))\n",
        "# locate the index of the largest g-mean\n",
        "idx_best = argmax(gmeans)\n",
        "print('Best Threshold=%f, G-Mean=%.3f' % (thresholds[idx_best], gmeans[idx_best]))\n",
        "# plot the roc curve for the model\n",
        "pyplot.plot([0,1], [0,1], linestyle='--', label='No Skill')\n",
        "pyplot.plot(fpr, tpr, marker='.', label='Logistic')\n",
        "pyplot.scatter(fpr[idx_best], tpr[idx_best], marker='o', color='black', label='Best')\n",
        "# axis labels\n",
        "pyplot.xlabel('False Positive Rate')\n",
        "pyplot.ylabel('True Positive Rate')\n",
        "pyplot.legend()\n",
        "# show the plot\n",
        "pyplot.show()"
      ],
      "metadata": {
        "colab": {
          "base_uri": "https://localhost:8080/",
          "height": 297
        },
        "id": "M9IuVFFDkKOD",
        "outputId": "e5a39e41-6cb2-4f62-b236-47645a1c8600"
      },
      "execution_count": 68,
      "outputs": [
        {
          "output_type": "stream",
          "name": "stdout",
          "text": [
            "Best Threshold=0.495960, G-Mean=0.593\n"
          ]
        },
        {
          "output_type": "display_data",
          "data": {
            "text/plain": [
              "<Figure size 432x288 with 1 Axes>"
            ],
            "image/png": "[encoded data removed]"
          },
          "metadata": {
            "needs_background": "light"
          }
        }
      ]
    },
    {
      "cell_type": "code",
      "source": [
        "# predict probabilities\n",
        "yhat = lg_model.predict_proba(testX)\n",
        "# keep probabilities for the positive outcome only\n",
        "yhat = yhat[:, 1]\n",
        "\n",
        "y_predictions = yhat >= thresholds[idx_best]\n",
        "y_predictions = [y.astype(int) for y in y_predictions]"
      ],
      "metadata": {
        "id": "xm3fsiG2maAJ"
      },
      "execution_count": 56,
      "outputs": []
    },
    {
      "cell_type": "code",
      "source": [
        "from sklearn.metrics import confusion_matrix\n",
        "\n",
        "confusion_matrix(testy, y_predictions)"
      ],
      "metadata": {
        "colab": {
          "base_uri": "https://localhost:8080/"
        },
        "id": "BRQT0WSvlAYV",
        "outputId": "0e02102b-84f0-4b9f-867b-83709299d88c"
      },
      "execution_count": 57,
      "outputs": [
        {
          "output_type": "execute_result",
          "data": {
            "text/plain": [
              "array([[443, 340],\n",
              "       [306, 504]])"
            ]
          },
          "metadata": {},
          "execution_count": 57
        }
      ]
    },
    {
      "cell_type": "markdown",
      "source": [
        "## Evaluating on Test Data"
      ],
      "metadata": {
        "id": "hbQwQRNXIgO0"
      }
    },
    {
      "cell_type": "code",
      "source": [
        "import torch\n",
        "from torch.utils.data import DataLoader, TensorDataset\n",
        "from scipy import stats\n",
        "\n",
        "split_bios = read_bios('/content/NLP-DL-Group2/hw#1/mix.test.txt', True)\n",
        "windows = create_windows(split_bios, 3)\n",
        "\n",
        "all_sliding_windows = [item[0] for item in windows]\n",
        "all_bio_labels = [item[1] for item in windows]\n",
        "\n",
        "BATCH_SIZE = 64"
      ],
      "metadata": {
        "id": "RAZRn4FbHI2w"
      },
      "execution_count": 58,
      "outputs": []
    },
    {
      "cell_type": "code",
      "source": [
        "# Now that we know the best threshold, we can apply that threshold to the test dataset\n",
        "\n",
        "# [(probability, label), ...]\n",
        "# [(0.05, 0), ...]\n",
        "probabilities = []\n",
        "\n",
        "for i in range(len(all_sliding_windows)):\n",
        "  all_sliding_windows_for_bio = all_sliding_windows[i]\n",
        "  context, true_words = make_context_and_true_words_per_bio(all_sliding_windows_for_bio)\n",
        "\n",
        "  bio_label = all_bio_labels[i]\n",
        "\n",
        "  # Each bio has a probability table (mapping words to their probabilities, given the sequence)\n",
        "  log_probability_tables = model.lookup(context)\n",
        "\n",
        "  curr_probabilities = torch.FloatTensor([])\n",
        "\n",
        "  for idx_curr_context, curr_context in enumerate(log_probability_tables):\n",
        "    true_word_for_curr_context = true_words[idx_curr_context]\n",
        "    probability_for_true_word = curr_context[true_word_for_curr_context]\n",
        "    curr_probabilities = torch.cat([curr_probabilities, probability_for_true_word])\n",
        "\n",
        "  # Trimming mean by 0.1 (from each side) and dividing by the length\n",
        "  trimmed_mean = stats.trim_mean(curr_probabilities.detach().numpy(), 0.1) / len(log_probability_tables)\n",
        "  \n",
        "  probabilities.append((trimmed_mean, bio_label))"
      ],
      "metadata": {
        "id": "aEjltWCNG9CG"
      },
      "execution_count": 59,
      "outputs": []
    },
    {
      "cell_type": "code",
      "source": [
        "# https://machinelearningmastery.com/threshold-moving-for-imbalanced-classification/\n",
        "# roc curve for logistic regression model with optimal threshold\n",
        "import numpy as np\n",
        "from numpy import sqrt\n",
        "from numpy import argmax\n",
        "from sklearn.datasets import make_classification\n",
        "from sklearn.linear_model import LogisticRegression\n",
        "from sklearn.model_selection import train_test_split\n",
        "from sklearn.metrics import roc_curve\n",
        "from matplotlib import pyplot\n",
        "\n",
        "# generate dataset\n",
        "X, y = [item[0] for item in probabilities], [item[1] for item in probabilities]\n",
        "X = np.array(X).reshape(-1, 1)\n",
        "\n",
        "# split into train/test sets\n",
        "# trainX, testX, trainy, testy = train_test_split(X, y, test_size=0.2, random_state=2, stratify=y)\n",
        "# trainX = np.array(trainX).reshape(-1, 1)\n",
        "# testX = np.array(testX).reshape(-1, 1)\n",
        "\n",
        "# fit a model\n",
        "# lg_model = LogisticRegression(solver='lbfgs')\n",
        "# lg_model.fit(trainX, trainy)\n",
        "\n",
        "# predict probabilities\n",
        "yhat = lg_model.predict_proba(X)\n",
        "# keep probabilities for the positive outcome only\n",
        "yhat = yhat[:, 1]\n",
        "\n",
        "# calculate roc curves\n",
        "fpr, tpr, _ = roc_curve(y, yhat)\n",
        "\n",
        "# plot the roc curve for the model\n",
        "pyplot.plot([0,1], [0,1], linestyle='--', label='No Skill')\n",
        "pyplot.plot(fpr, tpr, marker='.', label='Logistic')\n",
        "# axis labels\n",
        "pyplot.xlabel('False Positive Rate')\n",
        "pyplot.ylabel('True Positive Rate')\n",
        "pyplot.legend()\n",
        "# show the plot\n",
        "pyplot.show()"
      ],
      "metadata": {
        "colab": {
          "base_uri": "https://localhost:8080/",
          "height": 279
        },
        "id": "44CX5M8XVO-b",
        "outputId": "44864e7a-0478-47c4-cab4-061f682b811d"
      },
      "execution_count": 72,
      "outputs": [
        {
          "output_type": "display_data",
          "data": {
            "text/plain": [
              "<Figure size 432x288 with 1 Axes>"
            ],
            "image/png": "[encoded data removed]"
          },
          "metadata": {
            "needs_background": "light"
          }
        }
      ]
    },
    {
      "cell_type": "code",
      "source": [
        "# predict probabilities\n",
        "yhat = lg_model.predict_proba(X)\n",
        "# keep probabilities for the positive outcome only\n",
        "yhat = yhat[:, 1]\n",
        "\n",
        "y_predictions = yhat >= thresholds[idx_best]\n",
        "y_predictions = [y.astype(int) for y in y_predictions]"
      ],
      "metadata": {
        "id": "GX0tNwRDI165"
      },
      "execution_count": 75,
      "outputs": []
    },
    {
      "cell_type": "code",
      "source": [
        "confusion_matrix(y, y_predictions)"
      ],
      "metadata": {
        "colab": {
          "base_uri": "https://localhost:8080/"
        },
        "id": "8Q1Nq9x4I8ii",
        "outputId": "ee51976e-3c32-42db-c0c4-65266d012236"
      },
      "execution_count": 74,
      "outputs": [
        {
          "output_type": "execute_result",
          "data": {
            "text/plain": [
              "array([[232, 315],\n",
              "       [239, 266]])"
            ]
          },
          "metadata": {},
          "execution_count": 74
        }
      ]
    }
  ],
  "metadata": {
    "colab": {
      "provenance": []
    },
    "kernelspec": {
      "display_name": "Python 3 (ipykernel)",
      "language": "python",
      "name": "python3"
    },
    "language_info": {
      "codemirror_mode": {
        "name": "ipython",
        "version": 3
      },
      "file_extension": ".py",
      "mimetype": "text/x-python",
      "name": "python",
      "nbconvert_exporter": "python",
      "pygments_lexer": "ipython3",
      "version": "3.10.9"
    }
  },
  "nbformat": 4,
  "nbformat_minor": 0
}