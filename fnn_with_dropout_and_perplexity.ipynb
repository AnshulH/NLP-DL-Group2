{
  "cells": [
    {
      "cell_type": "code",
      "execution_count": 1,
      "metadata": {
        "colab": {
          "base_uri": "https://localhost:8080/"
        },
        "id": "U7U7h5_g6HQj",
        "outputId": "ce64ee95-b647-4278-9437-143ec3b073df",
        "scrolled": true
      },
      "outputs": [
        {
          "output_type": "stream",
          "name": "stdout",
          "text": [
            "rm: cannot remove '/content/NLP-DL-Group2/': No such file or directory\n",
            "Cloning into 'NLP-DL-Group2'...\n",
            "remote: Enumerating objects: 111, done.\u001b[K\n",
            "remote: Counting objects: 100% (65/65), done.\u001b[K\n",
            "remote: Compressing objects: 100% (58/58), done.\u001b[K\n",
            "remote: Total 111 (delta 29), reused 18 (delta 5), pack-reused 46\u001b[K\n",
            "Receiving objects: 100% (111/111), 30.88 MiB | 9.71 MiB/s, done.\n",
            "Resolving deltas: 100% (48/48), done.\n"
          ]
        }
      ],
      "source": [
        "!rm -r /content/NLP-DL-Group2/\n",
        "!cd /content && git clone -b fnn https://github.com/AnshulH/NLP-DL-Group2"
      ]
    },
    {
      "cell_type": "code",
      "execution_count": 2,
      "metadata": {
        "id": "xOWdVCUmfJZ5"
      },
      "outputs": [],
      "source": [
        "import torch\n",
        "import torch.nn.functional as F\n",
        "import torch.nn as nn\n",
        "import torch.optim as optim\n",
        "import math\n",
        "import time\n",
        "import numpy as np\n",
        "import sys\n",
        "import argparse\n",
        "import os\n",
        "import re\n",
        "from nltk.util import ngrams"
      ]
    },
    {
      "cell_type": "code",
      "execution_count": 10,
      "metadata": {
        "id": "0E1tgVr_fJZ6"
      },
      "outputs": [],
      "source": [
        "def decode(vocab,corpus):\n",
        "    \n",
        "    text = ''\n",
        "    for i in range(len(corpus)):\n",
        "        wID = corpus[i]\n",
        "        text = text + vocab[wID] + ' '\n",
        "    return(text)\n",
        "\n",
        "def encode(words,text):\n",
        "    corpus = []\n",
        "    tokens = text.split(' ')\n",
        "    for t in tokens:\n",
        "        try:\n",
        "            wID = words[t][0]\n",
        "        except:\n",
        "            wID = words['<unk>'][0]\n",
        "        corpus.append(wID)\n",
        "    return(corpus)\n",
        "\n",
        "def read_encode(file_name,vocab,words,corpus,threshold):\n",
        "    \n",
        "    wID = len(vocab)\n",
        "    \n",
        "    if threshold > -1:\n",
        "        with open(file_name,'rt', encoding='utf8') as f:\n",
        "            for line in f:\n",
        "                line = line.replace('\\n','')\n",
        "                # Added lower-casing\n",
        "                line = line.lower()\n",
        "                \n",
        "                # Strips out all charcters other than alphanumeric\n",
        "                line = re.sub('[\\W_]+', ' ', line, flags=re.UNICODE)\n",
        "                \n",
        "                # Strips out numbers\n",
        "                line = re.sub('\\d+', '', line)\n",
        "                \n",
        "                tokens = line.split(' ')\n",
        "                for t in tokens:\n",
        "                    try:\n",
        "                        elem = words[t]\n",
        "                    except:\n",
        "                        elem = [wID,0]\n",
        "                        vocab.append(t)\n",
        "                        wID = wID + 1\n",
        "                    elem[1] = elem[1] + 1\n",
        "                    words[t] = elem\n",
        "\n",
        "        temp = words\n",
        "        words = {}\n",
        "        vocab = []\n",
        "        wID = 0\n",
        "        words['<unk>'] = [wID,100]\n",
        "        vocab.append('<unk>')\n",
        "        for t in temp:\n",
        "            if temp[t][1] >= threshold:\n",
        "                vocab.append(t)\n",
        "                wID = wID + 1\n",
        "                words[t] = [wID,temp[t][1]]\n",
        "            \n",
        "                    \n",
        "    with open(file_name,'rt', encoding='utf8') as f:\n",
        "        for line in f:\n",
        "            line = line.replace('\\n','')\n",
        "            tokens = line.split(' ')\n",
        "            for t in tokens:\n",
        "                try:\n",
        "                    wID = words[t][0]\n",
        "                except:\n",
        "                    wID = words['<unk>'][0]\n",
        "                corpus.append(wID)\n",
        "                \n",
        "    return [vocab,words,corpus]"
      ]
    },
    {
      "cell_type": "code",
      "execution_count": 11,
      "metadata": {
        "colab": {
          "base_uri": "https://localhost:8080/"
        },
        "id": "z4YDBcnYft_l",
        "outputId": "f1619d3d-cfe0-4c50-8e77-dcf2cdf621d5"
      },
      "outputs": [
        {
          "output_type": "stream",
          "name": "stdout",
          "text": [
            "vocab: 22999, words: 22999, train: 3366260\n",
            "vocab: 26605, words: 26604, train: 6642203\n",
            "vocab: 26605 test: 441210\n"
          ]
        }
      ],
      "source": [
        "params = {\n",
        "        'd_model': 100,\n",
        "        'd_hidden': 100,\n",
        "        'n_layers': 2,\n",
        "        'batch_size': 20,\n",
        "        'seq_len': 30,\n",
        "        'printevery': 5000,\n",
        "        'window': 3,\n",
        "        'epochs': 20,\n",
        "        'lr': 0.0001,\n",
        "        'dropout': 0.35,\n",
        "        'clip': 2.0,\n",
        "        'model': 'FFNN',\n",
        "        'savename': 'lstm',\n",
        "        'loadname': None,\n",
        "        'trainname': '/content/NLP-DL-Group2/hw#1/mix.train.txt',\n",
        "        'validname': '/content/NLP-DL-Group2/hw#1/mix.valid.txt',\n",
        "        'testname': '/content/NLP-DL-Group2/hw#1/mix.test.txt'\n",
        "    }\n",
        "torch.manual_seed(0)\n",
        "\n",
        "[vocab,words,train] = read_encode(params['trainname'],[],{},[],5)\n",
        "print('vocab: %d, words: %d, train: %d' % (len(vocab), len(words), len(train)))\n",
        "\n",
        "[vocab,words,train] = read_encode('/content/NLP-DL-Group2/hw#1/fake.train.txt',vocab,words,train,5)\n",
        "print('vocab: %d, words: %d, train: %d' % (len(vocab), len(words), len(train)))\n",
        "\n",
        "[vocab,words,test] = read_encode(params['testname'], vocab,words,[],-1)\n",
        "print('vocab: %d test: %d' % (len(vocab),len(test)))\n",
        "params['vocab_size'] = len(vocab)"
      ]
    },
    {
      "cell_type": "code",
      "execution_count": 12,
      "metadata": {
        "id": "QlXXhar6gIZD"
      },
      "outputs": [],
      "source": [
        "# Returns bios in [(bio without puncutation, label), ...]\n",
        "# 0: FAKE\n",
        "# 1: REAL\n",
        "def read_bios(file_name, labels=False):\n",
        "    with open(file_name,'rt', encoding='utf8') as f:\n",
        "        all_bios = f.readlines()\n",
        "        \n",
        "    split_bios = []\n",
        "    curr_bio = \"\"\n",
        "    curr_index = 0\n",
        "    while curr_index < len(all_bios):\n",
        "        curr_line = all_bios[curr_index].lower()\n",
        "        # Strips out all charcters other than alphanumeric\n",
        "        curr_line = re.sub('[\\W_]+', ' ', curr_line, flags=re.UNICODE)\n",
        "        \n",
        "        # Strips out numbers\n",
        "        curr_line = re.sub('\\d+', '', curr_line)\n",
        "        \n",
        "        curr_line = curr_line.strip()\n",
        "        \n",
        "        if curr_line == \"start bio\":\n",
        "            # Skips their name\n",
        "            curr_index += 1\n",
        "        \n",
        "        elif curr_line == \"end bio\":\n",
        "          if labels:\n",
        "            curr_index += 2\n",
        "            if \"FAKE\" in all_bios[curr_index]:\n",
        "                label = 0\n",
        "            else:\n",
        "                label = 1\n",
        "\n",
        "            split_bios.append((curr_bio, label))\n",
        "            curr_bio = \"\"\n",
        "          \n",
        "          else:\n",
        "            split_bios.append((curr_bio, 0))\n",
        "            curr_bio = \"\"\n",
        "        \n",
        "        else:\n",
        "            # Check to ensure not empty space\n",
        "            if curr_line:\n",
        "                if curr_bio == \"\":\n",
        "                    curr_bio = curr_line\n",
        "                else:\n",
        "                    curr_bio += \" \" +  curr_line\n",
        "        \n",
        "        curr_index += 1\n",
        "        \n",
        "    \n",
        "    return split_bios"
      ]
    },
    {
      "cell_type": "code",
      "execution_count": 13,
      "metadata": {
        "id": "cxU-2zc_gJ5A"
      },
      "outputs": [],
      "source": [
        "# Create windows\n",
        "# split_bios: [(bio without puncutation, label), ...]\n",
        "# Returns sliding windows (multiple per biography):\n",
        "# [\n",
        "#  [\n",
        "#   (['Hildebrand', 'Bothe', 'October'], 'September'),\n",
        "#   (['Bothe', 'October', 'September'], 'was'),\n",
        "#  ],\n",
        "#  [\n",
        "#   ([Hermann', 'Robert', 'Kaiser'], 'September'),\n",
        "#   ...\n",
        "#  ]\n",
        "# ]\n",
        "\n",
        "# Reference: https://pytorch.org/tutorials/beginner/nlp/word_embeddings_tutorial.html\n",
        "def create_windows(split_bios, window_size):\n",
        "    sliding_windows = []\n",
        "    for bio, label in split_bios:\n",
        "        bio_without_nums = ''.join([i for i in bio if not i.isdigit()])\n",
        "        tokens = [token for token in bio_without_nums.split(\" \") if token != \"\"]\n",
        "        \n",
        "        ngrams = []\n",
        "        for i in range(len(tokens) - window_size):\n",
        "            ngrams.append((\n",
        "                [tokens[i + j] for j in range(window_size)],\n",
        "                tokens[i + window_size]\n",
        "            ))\n",
        "        \n",
        "        sliding_windows.append((ngrams, label))\n",
        "    \n",
        "    return sliding_windows"
      ]
    },
    {
      "cell_type": "code",
      "execution_count": 14,
      "metadata": {
        "id": "eWA2aWKAgLa7"
      },
      "outputs": [],
      "source": [
        "def create_context_and_next_words(windows):\n",
        "  all_context = []\n",
        "  all_next_words = []\n",
        "  skipped_labels = 0\n",
        "\n",
        "  for (each_bio, bio_label) in windows:\n",
        "    # Considering only fake windows for training the model\n",
        "    if bio_label == 0:\n",
        "      for context, label in each_bio:\n",
        "          found_in_words = [word in words for word in context]\n",
        "          found_in_words.extend([label in words])\n",
        "          if all(found_in_words):\n",
        "              all_context.append([words[word][0] for word in context])\n",
        "              all_next_words.append([words[label][0]])\n",
        "          else:\n",
        "              all_context.append([0] * len(context))\n",
        "              all_next_words.append([0])\n",
        "              \n",
        "              skipped_labels += 1\n",
        "\n",
        "  return torch.LongTensor(all_context), torch.LongTensor(all_next_words)\n",
        "\n",
        "# Skipping certain sliding windows because they weren't found in the dictionary\n",
        "# Unk'd?\n",
        "# print(skipped_labels)"
      ]
    },
    {
      "cell_type": "code",
      "execution_count": 18,
      "metadata": {
        "id": "0ceIec6IgSrj"
      },
      "outputs": [],
      "source": [
        "import torch\n",
        "from torch.utils.data import DataLoader, TensorDataset\n",
        "\n",
        "BATCH_SIZE = 64\n",
        "\n",
        "# [vocab,words,train] = read_encode(params['trainname'],[],{},[],5)\n",
        "# [vocab,words,train] = read_encode('/content/NLP-DL-Group2/hw#1/fake.train.txt',vocab,words,train,5)\n",
        "\n",
        "# Adding all fakes from mixed dataset, all fakes from fake.train\n",
        "split_bios = read_bios(params['trainname'], True)\n",
        "split_bios.extend(read_bios('/content/NLP-DL-Group2/hw#1/fake.train.txt', False))\n",
        "\n",
        "windows = create_windows(split_bios, 3)\n",
        "all_context_for_fake_bios, all_next_words_for_fake_bios = create_context_and_next_words(windows)\n",
        "\n",
        "dataset = TensorDataset(all_context_for_fake_bios, all_next_words_for_fake_bios)\n",
        "dataloader = DataLoader(dataset, batch_size=BATCH_SIZE, shuffle=True)"
      ]
    },
    {
      "cell_type": "code",
      "execution_count": 20,
      "metadata": {
        "colab": {
          "base_uri": "https://localhost:8080/"
        },
        "id": "1_irXR35lui0",
        "outputId": "d037810a-c4d5-4df0-dd9b-5ae8f7826619"
      },
      "outputs": [
        {
          "output_type": "stream",
          "name": "stdout",
          "text": [
            "Mounted at /content/gdrive\n"
          ]
        }
      ],
      "source": [
        "from google.colab import drive\n",
        "drive.mount('/content/gdrive')"
      ]
    },
    {
      "cell_type": "code",
      "execution_count": 21,
      "metadata": {
        "id": "GB_oPsO4xrxH"
      },
      "outputs": [],
      "source": [
        "class FFNN(nn.Module):\n",
        "    # d_model = embedding dimensions\n",
        "    def __init__(self, vocab, words,d_model, d_hidden, dropout):\n",
        "        super().__init__() \n",
        "    \n",
        "        self.vocab = vocab\n",
        "        self.words = words\n",
        "        self.vocab_size = len(self.vocab)\n",
        "        self.d_model = d_model\n",
        "        self.d_hidden = d_hidden\n",
        "        self.dropout = nn.Dropout(dropout)\n",
        "        self.embeds = nn.Embedding(self.vocab_size,d_model)\n",
        "        \n",
        "        # Context size * dimensions for input\n",
        "        # Hidden layer neurons was more difficult to find information\n",
        "        self.linear1 = nn.Linear(3 * d_model, 512)\n",
        "        self.linear2 = nn.Linear(512, self.vocab_size)\n",
        "\n",
        "    def forward(self, src):\n",
        "        embeds = self.embeds(src).view((BATCH_SIZE, -1))\n",
        "        out = F.relu(self.linear1(embeds))\n",
        "        out = self.dropout(out)\n",
        "        out = self.linear2(out)\n",
        "        log_probs = F.log_softmax(out, dim=1)\n",
        "        return log_probs\n",
        "\n",
        "    def lookup(self, src):\n",
        "        embeds = self.embeds(src).flatten(1, 2)\n",
        "        out = F.relu(self.linear1(embeds))\n",
        "        out = self.linear2(out)\n",
        "        log_probs = F.log_softmax(out, dim=1)\n",
        "        return log_probs\n",
        "                \n",
        "    def init_weights(self):\n",
        "        pass"
      ]
    },
    {
      "cell_type": "code",
      "execution_count": null,
      "metadata": {
        "id": "pD02EvLB_7Lj"
      },
      "outputs": [],
      "source": [
        "# Changes:\n",
        "# Dropout (0.02)\n",
        "# Mini batch size (500)\n",
        "# Epochs (100)\n",
        "# Increase learning rate to 0.0003\n",
        "# Adding ALL FAKES"
      ]
    },
    {
      "cell_type": "code",
      "source": [
        "import math"
      ],
      "metadata": {
        "id": "4STQE8SM4ZKx"
      },
      "execution_count": 23,
      "outputs": []
    },
    {
      "cell_type": "code",
      "execution_count": 25,
      "metadata": {
        "colab": {
          "base_uri": "https://localhost:8080/",
          "height": 443
        },
        "id": "MefYYvncgN54",
        "outputId": "cea2f8f8-8ae8-41aa-8448-1fc93bc13718"
      },
      "outputs": [
        {
          "output_type": "stream",
          "name": "stdout",
          "text": [
            "3838.7749104499817\n",
            "epoch 0 loss: 7.677549820899963\n",
            "perplexity: 0.00046310820786152487\n"
          ]
        },
        {
          "output_type": "error",
          "ename": "KeyboardInterrupt",
          "evalue": "ignored",
          "traceback": [
            "\u001b[0;31m---------------------------------------------------------------------------\u001b[0m",
            "\u001b[0;31mKeyboardInterrupt\u001b[0m                         Traceback (most recent call last)",
            "\u001b[0;32m<ipython-input-25-641f1134dc30>\u001b[0m in \u001b[0;36m<module>\u001b[0;34m\u001b[0m\n\u001b[1;32m     15\u001b[0m         \u001b[0mloss\u001b[0m \u001b[0;34m=\u001b[0m \u001b[0mloss_function\u001b[0m\u001b[0;34m(\u001b[0m\u001b[0mlog_probabilities\u001b[0m\u001b[0;34m,\u001b[0m \u001b[0mlabel\u001b[0m\u001b[0;34m)\u001b[0m\u001b[0;34m\u001b[0m\u001b[0;34m\u001b[0m\u001b[0m\n\u001b[1;32m     16\u001b[0m \u001b[0;34m\u001b[0m\u001b[0m\n\u001b[0;32m---> 17\u001b[0;31m         \u001b[0mloss\u001b[0m\u001b[0;34m.\u001b[0m\u001b[0mbackward\u001b[0m\u001b[0;34m(\u001b[0m\u001b[0;34m)\u001b[0m\u001b[0;34m\u001b[0m\u001b[0;34m\u001b[0m\u001b[0m\n\u001b[0m\u001b[1;32m     18\u001b[0m         \u001b[0moptimizer\u001b[0m\u001b[0;34m.\u001b[0m\u001b[0mstep\u001b[0m\u001b[0;34m(\u001b[0m\u001b[0;34m)\u001b[0m\u001b[0;34m\u001b[0m\u001b[0;34m\u001b[0m\u001b[0m\n\u001b[1;32m     19\u001b[0m \u001b[0;34m\u001b[0m\u001b[0m\n",
            "\u001b[0;32m/usr/local/lib/python3.8/dist-packages/torch/_tensor.py\u001b[0m in \u001b[0;36mbackward\u001b[0;34m(self, gradient, retain_graph, create_graph, inputs)\u001b[0m\n\u001b[1;32m    486\u001b[0m                 \u001b[0minputs\u001b[0m\u001b[0;34m=\u001b[0m\u001b[0minputs\u001b[0m\u001b[0;34m,\u001b[0m\u001b[0;34m\u001b[0m\u001b[0;34m\u001b[0m\u001b[0m\n\u001b[1;32m    487\u001b[0m             )\n\u001b[0;32m--> 488\u001b[0;31m         torch.autograd.backward(\n\u001b[0m\u001b[1;32m    489\u001b[0m             \u001b[0mself\u001b[0m\u001b[0;34m,\u001b[0m \u001b[0mgradient\u001b[0m\u001b[0;34m,\u001b[0m \u001b[0mretain_graph\u001b[0m\u001b[0;34m,\u001b[0m \u001b[0mcreate_graph\u001b[0m\u001b[0;34m,\u001b[0m \u001b[0minputs\u001b[0m\u001b[0;34m=\u001b[0m\u001b[0minputs\u001b[0m\u001b[0;34m\u001b[0m\u001b[0;34m\u001b[0m\u001b[0m\n\u001b[1;32m    490\u001b[0m         )\n",
            "\u001b[0;32m/usr/local/lib/python3.8/dist-packages/torch/autograd/__init__.py\u001b[0m in \u001b[0;36mbackward\u001b[0;34m(tensors, grad_tensors, retain_graph, create_graph, grad_variables, inputs)\u001b[0m\n\u001b[1;32m    195\u001b[0m     \u001b[0;31m# some Python versions print out the first line of a multi-line function\u001b[0m\u001b[0;34m\u001b[0m\u001b[0;34m\u001b[0m\u001b[0;34m\u001b[0m\u001b[0m\n\u001b[1;32m    196\u001b[0m     \u001b[0;31m# calls in the traceback and some print out the last line\u001b[0m\u001b[0;34m\u001b[0m\u001b[0;34m\u001b[0m\u001b[0;34m\u001b[0m\u001b[0m\n\u001b[0;32m--> 197\u001b[0;31m     Variable._execution_engine.run_backward(  # Calls into the C++ engine to run the backward pass\n\u001b[0m\u001b[1;32m    198\u001b[0m         \u001b[0mtensors\u001b[0m\u001b[0;34m,\u001b[0m \u001b[0mgrad_tensors_\u001b[0m\u001b[0;34m,\u001b[0m \u001b[0mretain_graph\u001b[0m\u001b[0;34m,\u001b[0m \u001b[0mcreate_graph\u001b[0m\u001b[0;34m,\u001b[0m \u001b[0minputs\u001b[0m\u001b[0;34m,\u001b[0m\u001b[0;34m\u001b[0m\u001b[0;34m\u001b[0m\u001b[0m\n\u001b[1;32m    199\u001b[0m         allow_unreachable=True, accumulate_grad=True)  # Calls into the C++ engine to run the backward pass\n",
            "\u001b[0;31mKeyboardInterrupt\u001b[0m: "
          ]
        }
      ],
      "source": [
        "# AFTER BATCHING\n",
        "\n",
        "model = FFNN(vocab, words, d_model=100, d_hidden=100, dropout=0.2)\n",
        "loss_function = nn.NLLLoss()\n",
        "optimizer = torch.optim.Adam(model.parameters(), lr=0.0003)\n",
        "\n",
        "perplexity_scores = []\n",
        "\n",
        "for epoch in range(0, 50):\n",
        "    running_loss = 0\n",
        "    for i, (context, label) in enumerate(dataloader):\n",
        "        log_probabilities = model(context)\n",
        "        # Collapsing labels to correct dimensions\n",
        "        label = label.squeeze()\n",
        "        loss = loss_function(log_probabilities, label)\n",
        "\n",
        "        model.zero_grad()\n",
        "        loss.backward()\n",
        "        optimizer.step()\n",
        "        \n",
        "        running_loss += loss.item()\n",
        "\n",
        "        if i % 500 == 499:\n",
        "            last_loss = running_loss / 500 # loss per batch\n",
        "            break\n",
        "\n",
        "    print(running_loss)\n",
        "\n",
        "    curr_perplexity = math.exp(- running_loss / 500)\n",
        "    perplexity_scores.append(curr_perplexity)\n",
        "        \n",
        "    print('epoch {} loss: {}'.format(epoch, last_loss))\n",
        "    print('perplexity: {}'.format(curr_perplexity))      \n",
        "    torch.save({\n",
        "        'epoch': epoch,\n",
        "        'model_state_dict': model.state_dict(),\n",
        "        'optimizer_state_dict': optimizer.state_dict(),\n",
        "        'loss': loss,\n",
        "        }, \"/content/gdrive/My Drive/fakes_from_mixed_and_only_fake_dropout_fnn_batch500_epoch50_mixed.pt\")\n",
        "    \n",
        "print(\"Finished!\")"
      ]
    },
    {
      "cell_type": "code",
      "execution_count": null,
      "metadata": {
        "colab": {
          "base_uri": "https://localhost:8080/"
        },
        "id": "ZlKVV6p8P47I",
        "outputId": "3d3c24b9-e7bb-428b-a296-a74a306f1265"
      },
      "outputs": [
        {
          "data": {
            "text/plain": [
              "FFNN(\n",
              "  (embeds): Embedding(33633, 100)\n",
              "  (linear1): Linear(in_features=300, out_features=512, bias=True)\n",
              "  (linear2): Linear(in_features=512, out_features=33633, bias=True)\n",
              ")"
            ]
          },
          "execution_count": 11,
          "metadata": {},
          "output_type": "execute_result"
        }
      ],
      "source": [
        "model = FFNN(vocab, words, d_model=100, d_hidden=100, dropout=0.2)\n",
        "loss_function = nn.NLLLoss()\n",
        "optimizer = torch.optim.Adam(model.parameters(), lr=0.0003)\n",
        "\n",
        "checkpoint = torch.load('/content/gdrive/My Drive/dropout_fnn_batch500_epoch50_mixed.pt')\n",
        "model.load_state_dict(checkpoint['model_state_dict'])\n",
        "optimizer.load_state_dict(checkpoint['optimizer_state_dict'])\n",
        "model.train()"
      ]
    },
    {
      "cell_type": "code",
      "execution_count": null,
      "metadata": {
        "id": "WdoyNaubyhkm"
      },
      "outputs": [],
      "source": [
        "import torch\n",
        "from torch.utils.data import DataLoader, TensorDataset\n",
        "\n",
        "split_bios = read_bios('/content/NLP-DL-Group2/hw#1/mix.train.txt', True)\n",
        "windows = create_windows(split_bios, 3)\n",
        "\n",
        "all_sliding_windows = [item[0] for item in windows]\n",
        "all_bio_labels = [item[1] for item in windows]\n",
        "\n",
        "BATCH_SIZE = 64"
      ]
    },
    {
      "cell_type": "code",
      "execution_count": null,
      "metadata": {
        "id": "1299MIfZHfsE"
      },
      "outputs": [],
      "source": [
        "# Makes context + true words for each given bio\n",
        "# @param: pass it the sliding windows of a given bio\n",
        "# sliding window is a list of pairs\n",
        "# [(['hildebrand', 'bothe', 'october'], 'september'), (['bothe', 'october', 'september'], 'was'), ...]\n",
        "\n",
        "def make_context_and_true_words_per_bio(bio):\n",
        "  all_context = []\n",
        "  all_next_words = []\n",
        "\n",
        "  for context, label in bio:\n",
        "      found_in_words = [word in words for word in context]\n",
        "      found_in_words.extend([label in words])\n",
        "      if all(found_in_words):\n",
        "          all_context.append([words[word][0] for word in context])\n",
        "          all_next_words.append([words[label][0]])\n",
        "      else:\n",
        "          all_context.append([0] * len(context))\n",
        "          all_next_words.append([0])\n",
        "\n",
        "    # Random edge case on line 42422 of the bios...\n",
        "  if all_context == [] and all_next_words == []:\n",
        "    all_context.append([0] * 3)\n",
        "    all_next_words.append([0])\n",
        "\n",
        "  return torch.LongTensor(all_context), torch.LongTensor(all_next_words)"
      ]
    },
    {
      "cell_type": "markdown",
      "metadata": {
        "id": "lUX3T-5vYDY7"
      },
      "source": [
        "For some reason, this is a bio.\n",
        "```\n",
        "<start_bio> \n",
        " = Zulus =  \n",
        "<end_bio> \n",
        "\n",
        "[FAKE]\n",
        "```"
      ]
    },
    {
      "cell_type": "code",
      "execution_count": null,
      "metadata": {
        "id": "zxW0LuDQAYmJ"
      },
      "outputs": [],
      "source": [
        "from scipy import stats"
      ]
    },
    {
      "cell_type": "code",
      "execution_count": null,
      "metadata": {
        "id": "UqAgWHjp79fX",
        "colab": {
          "base_uri": "https://localhost:8080/"
        },
        "outputId": "013a3c58-2b36-4d85-aa9f-26b0b89b33f0"
      },
      "outputs": [
        {
          "output_type": "execute_result",
          "data": {
            "text/plain": [
              "FFNN(\n",
              "  (dropout): Dropout(p=0.2, inplace=False)\n",
              "  (embeds): Embedding(33633, 100)\n",
              "  (linear1): Linear(in_features=300, out_features=512, bias=True)\n",
              "  (linear2): Linear(in_features=512, out_features=33633, bias=True)\n",
              ")"
            ]
          },
          "metadata": {},
          "execution_count": 21
        }
      ],
      "source": [
        "# Turns off dropout layer\n",
        "model.eval()"
      ]
    },
    {
      "cell_type": "code",
      "execution_count": null,
      "metadata": {
        "id": "LM3vj3vayx_9"
      },
      "outputs": [],
      "source": [
        "# [(probability, label), ...]\n",
        "# [(0.05, 0), ...]\n",
        "probabilities = []\n",
        "\n",
        "for i in range(len(all_sliding_windows)):\n",
        "  all_sliding_windows_for_bio = all_sliding_windows[i]\n",
        "  context, true_words = make_context_and_true_words_per_bio(all_sliding_windows_for_bio)\n",
        "\n",
        "  bio_label = all_bio_labels[i]\n",
        "\n",
        "  # Each bio has a probability table (mapping words to their probabilities, given the sequence)\n",
        "  log_probability_tables = model.lookup(context)\n",
        "\n",
        "  normal_probabilities = torch.FloatTensor([])\n",
        "\n",
        "  for idx_curr_context, probability_distributions_for_each_context in enumerate(log_probability_tables):\n",
        "    true_word_for_curr_context = true_words[idx_curr_context]\n",
        "    probability_for_true_word = probability_distributions_for_each_context[true_word_for_curr_context]\n",
        "    probability_for_predicted_word = torch.max(probability_distributions_for_each_context)\n",
        "\n",
        "    probability_normalized = (probability_for_predicted_word - probability_for_true_word) / (probability_for_predicted_word + 1e-9)\n",
        "\n",
        "    normal_probabilities = torch.cat([normal_probabilities, probability_normalized])\n",
        "\n",
        "  # Trimming mean by 0.05 (from each side) and dividing by the length\n",
        "  trimmed_mean = stats.trim_mean(normal_probabilities.detach().numpy(), 0.05) / len(log_probability_tables)\n",
        "\n",
        "  probabilities.append([trimmed_mean, bio_label])"
      ]
    },
    {
      "cell_type": "code",
      "execution_count": null,
      "metadata": {
        "id": "xXPmLH81gRcN"
      },
      "outputs": [],
      "source": [
        "import pickle\n",
        "\n",
        "# /content/gdrive/My Drive/normal_probabilities_dropout_fnn_batch500_epoch50_mixed.pt\n",
        "\n",
        "with open(\"/content/gdrive/My Drive/normal_probabilities_dropout_fnn_batch500_epoch50_mixed\", \"wb\") as fp:   #Pickling\n",
        "  pickle.dump(probabilities, fp)"
      ]
    },
    {
      "cell_type": "markdown",
      "metadata": {
        "id": "_owJF_JWKlrJ"
      },
      "source": [
        "## Evaluating on Training Data"
      ]
    },
    {
      "cell_type": "code",
      "execution_count": null,
      "metadata": {
        "id": "BIIZ9w82Fk1e"
      },
      "outputs": [],
      "source": [
        "import pickle\n",
        "\n",
        "with open(\"/content/gdrive/My Drive/normal_probabilities_dropout_fnn_batch500_epoch50_mixed\", \"wb\") as fp:   #Pickling\n",
        "  pickle.dump(probabilities, fp)"
      ]
    },
    {
      "cell_type": "code",
      "execution_count": null,
      "metadata": {
        "colab": {
          "base_uri": "https://localhost:8080/",
          "height": 359
        },
        "id": "av2hyyxES1Fu",
        "outputId": "1784815a-f32a-42d1-c75b-a247e6c4eb27"
      },
      "outputs": [
        {
          "output_type": "stream",
          "name": "stderr",
          "text": [
            "/usr/local/lib/python3.8/dist-packages/numpy/core/fromnumeric.py:3208: VisibleDeprecationWarning: Creating an ndarray from ragged nested sequences (which is a list-or-tuple of lists-or-tuples-or ndarrays with different lengths or shapes) is deprecated. If you meant to do this, you must specify 'dtype=object' when creating the ndarray.\n",
            "  return asarray(a).size\n",
            "/usr/local/lib/python3.8/dist-packages/matplotlib/cbook/__init__.py:1376: VisibleDeprecationWarning: Creating an ndarray from ragged nested sequences (which is a list-or-tuple of lists-or-tuples-or ndarrays with different lengths or shapes) is deprecated. If you meant to do this, you must specify 'dtype=object' when creating the ndarray.\n",
            "  X = np.atleast_1d(X.T if isinstance(X, np.ndarray) else np.asarray(X))\n"
          ]
        },
        {
          "output_type": "display_data",
          "data": {
            "text/plain": [
              "<Figure size 432x288 with 1 Axes>"
            ],
            "image/png": "[encoded data removed]"
          },
          "metadata": {
            "needs_background": "light"
          }
        }
      ],
      "source": [
        "import matplotlib.pyplot as plt\n",
        "import numpy as np\n",
        "import math\n",
        "\n",
        "plt.style.use('seaborn-deep')\n",
        "\n",
        "probabilites_true = [item[0] for item in probabilities if item[1] == 1]\n",
        "probabilites_fake = [item[0] for item in probabilities if item[1] == 0]\n",
        "\n",
        "# min_bound = math.floor(min(min(probabilites_true), min(probabilites_fake)))\n",
        "\n",
        "x = probabilites_true\n",
        "y = probabilites_fake\n",
        "bins = np.linspace(-0.025, 0, 100)\n",
        "\n",
        "plt.hist([x, y], bins, label=['true', 'fake'])\n",
        "plt.legend(loc='upper left')\n",
        "plt.show()"
      ]
    },
    {
      "cell_type": "code",
      "execution_count": null,
      "metadata": {
        "colab": {
          "base_uri": "https://localhost:8080/",
          "height": 297
        },
        "id": "M9IuVFFDkKOD",
        "outputId": "146c8229-c545-45cd-e265-df5c775c36fb"
      },
      "outputs": [
        {
          "output_type": "stream",
          "name": "stdout",
          "text": [
            "Best Threshold=0.504751, G-Mean=0.655\n"
          ]
        },
        {
          "output_type": "display_data",
          "data": {
            "text/plain": [
              "<Figure size 432x288 with 1 Axes>"
            ],
            "image/png": "[encoded data removed]"
          },
          "metadata": {
            "needs_background": "light"
          }
        }
      ],
      "source": [
        "# https://machinelearningmastery.com/threshold-moving-for-imbalanced-classification/\n",
        "# roc curve for logistic regression model with optimal threshold\n",
        "import numpy as np\n",
        "from numpy import sqrt\n",
        "from numpy import argmax\n",
        "from sklearn.datasets import make_classification\n",
        "from sklearn.linear_model import LogisticRegression\n",
        "from sklearn.model_selection import train_test_split\n",
        "from sklearn.metrics import roc_curve\n",
        "from matplotlib import pyplot\n",
        "\n",
        "# generate dataset\n",
        "X, y = [item[0] for item in probabilities], [item[1] for item in probabilities]\n",
        "\n",
        "# split into train/test sets\n",
        "trainX, testX, trainy, testy = train_test_split(X, y, test_size=0.2, random_state=2, stratify=y)\n",
        "trainX = np.array(trainX).reshape(-1, 1)\n",
        "testX = np.array(testX).reshape(-1, 1)\n",
        "\n",
        "# fit a model\n",
        "lg_model = LogisticRegression(solver='lbfgs')\n",
        "lg_model.fit(trainX, trainy)\n",
        "\n",
        "# predict probabilities\n",
        "yhat = lg_model.predict_proba(testX)\n",
        "# keep probabilities for the positive outcome only\n",
        "yhat = yhat[:, 1]\n",
        "\n",
        "# calculate roc curves\n",
        "fpr, tpr, thresholds = roc_curve(testy, yhat)\n",
        "\n",
        "# calculate the g-mean for each threshold\n",
        "gmeans = sqrt(tpr * (1-fpr))\n",
        "# locate the index of the largest g-mean\n",
        "idx_best = argmax(gmeans)\n",
        "print('Best Threshold=%f, G-Mean=%.3f' % (thresholds[idx_best], gmeans[idx_best]))\n",
        "best_threshold = thresholds[idx_best]\n",
        "# plot the roc curve for the model\n",
        "pyplot.plot([0,1], [0,1], linestyle='--', label='No Skill')\n",
        "pyplot.plot(fpr, tpr, marker='.', label='Logistic')\n",
        "pyplot.scatter(fpr[idx_best], tpr[idx_best], marker='o', color='black', label='Best')\n",
        "# axis labels\n",
        "pyplot.xlabel('False Positive Rate')\n",
        "pyplot.ylabel('True Positive Rate')\n",
        "pyplot.legend()\n",
        "# show the plot\n",
        "pyplot.show()"
      ]
    },
    {
      "cell_type": "code",
      "execution_count": null,
      "metadata": {
        "id": "xm3fsiG2maAJ"
      },
      "outputs": [],
      "source": [
        "# predict probabilities\n",
        "yhat = lg_model.predict_proba(testX)\n",
        "# keep probabilities for the positive outcome only\n",
        "yhat = yhat[:, 1]\n",
        "\n",
        "y_predictions = yhat >= thresholds[idx_best]\n",
        "y_predictions = [y.astype(int) for y in y_predictions]"
      ]
    },
    {
      "cell_type": "code",
      "execution_count": null,
      "metadata": {
        "colab": {
          "base_uri": "https://localhost:8080/"
        },
        "id": "BRQT0WSvlAYV",
        "outputId": "287e6a40-0602-4e46-fac0-e1e38b0ce38f"
      },
      "outputs": [
        {
          "output_type": "execute_result",
          "data": {
            "text/plain": [
              "array([[460, 323],\n",
              "       [218, 592]])"
            ]
          },
          "metadata": {},
          "execution_count": 66
        }
      ],
      "source": [
        "from sklearn.metrics import confusion_matrix, accuracy_score\n",
        "\n",
        "confusion_matrix(testy, y_predictions)"
      ]
    },
    {
      "cell_type": "code",
      "execution_count": null,
      "metadata": {
        "colab": {
          "base_uri": "https://localhost:8080/"
        },
        "id": "zwHRYLEDxK8R",
        "outputId": "6110fa43-21ad-4f26-b093-a69279d466fb"
      },
      "outputs": [
        {
          "output_type": "execute_result",
          "data": {
            "text/plain": [
              "0.6603892027620841"
            ]
          },
          "metadata": {},
          "execution_count": 67
        }
      ],
      "source": [
        "accuracy_score(testy, y_predictions)"
      ]
    },
    {
      "cell_type": "markdown",
      "metadata": {
        "id": "hbQwQRNXIgO0"
      },
      "source": [
        "## Evaluating on Test Data"
      ]
    },
    {
      "cell_type": "code",
      "execution_count": null,
      "metadata": {
        "id": "RAZRn4FbHI2w"
      },
      "outputs": [],
      "source": [
        "import torch\n",
        "from torch.utils.data import DataLoader, TensorDataset\n",
        "from scipy import stats\n",
        "\n",
        "split_bios = read_bios('/content/NLP-DL-Group2/hw#1/mix.test.txt', True)\n",
        "windows = create_windows(split_bios, 3)\n",
        "\n",
        "all_sliding_windows = [item[0] for item in windows]\n",
        "all_bio_labels = [item[1] for item in windows]\n",
        "\n",
        "BATCH_SIZE = 64"
      ]
    },
    {
      "cell_type": "code",
      "execution_count": null,
      "metadata": {
        "id": "aEjltWCNG9CG"
      },
      "outputs": [],
      "source": [
        "# Now that we know the best threshold, we can apply that threshold to the test dataset\n",
        "\n",
        "probabilities = []\n",
        "\n",
        "for i in range(len(all_sliding_windows)):\n",
        "  all_sliding_windows_for_bio = all_sliding_windows[i]\n",
        "  context, true_words = make_context_and_true_words_per_bio(all_sliding_windows_for_bio)\n",
        "\n",
        "  bio_label = all_bio_labels[i]\n",
        "\n",
        "  # Each bio has a probability table (mapping words to their probabilities, given the sequence)\n",
        "  log_probability_tables = model.lookup(context)\n",
        "\n",
        "  normal_probabilities = torch.FloatTensor([])\n",
        "\n",
        "  for idx_curr_context, probability_distributions_for_each_context in enumerate(log_probability_tables):\n",
        "    true_word_for_curr_context = true_words[idx_curr_context]\n",
        "    probability_for_true_word = probability_distributions_for_each_context[true_word_for_curr_context]\n",
        "    probability_for_predicted_word = torch.max(probability_distributions_for_each_context)\n",
        "\n",
        "    probability_normalized = (probability_for_predicted_word - probability_for_true_word) / (probability_for_predicted_word + 1e-9)\n",
        "\n",
        "    normal_probabilities = torch.cat([normal_probabilities, probability_normalized])\n",
        "\n",
        "  # Trimming mean by 0.05 (from each side) and dividing by the length\n",
        "  trimmed_mean = stats.trim_mean(normal_probabilities.detach().numpy(), 0.05) / len(log_probability_tables)\n",
        "\n",
        "  probabilities.append((trimmed_mean, bio_label))"
      ]
    },
    {
      "cell_type": "code",
      "execution_count": null,
      "metadata": {
        "colab": {
          "base_uri": "https://localhost:8080/",
          "height": 279
        },
        "id": "44CX5M8XVO-b",
        "outputId": "944211ec-b1a7-499b-b555-5f553dd7d8b5"
      },
      "outputs": [
        {
          "output_type": "display_data",
          "data": {
            "text/plain": [
              "<Figure size 432x288 with 1 Axes>"
            ],
            "image/png": "[encoded data removed]"
          },
          "metadata": {
            "needs_background": "light"
          }
        }
      ],
      "source": [
        "# https://machinelearningmastery.com/threshold-moving-for-imbalanced-classification/\n",
        "# roc curve for logistic regression model with optimal threshold\n",
        "import numpy as np\n",
        "from numpy import sqrt\n",
        "from numpy import argmax\n",
        "from sklearn.datasets import make_classification\n",
        "from sklearn.linear_model import LogisticRegression\n",
        "from sklearn.model_selection import train_test_split\n",
        "from sklearn.metrics import roc_curve\n",
        "from matplotlib import pyplot\n",
        "\n",
        "# generate dataset\n",
        "X, y = [item[0] for item in probabilities], [item[1] for item in probabilities]\n",
        "X = np.array(X).reshape(-1, 1)\n",
        "\n",
        "# split into train/test sets\n",
        "# trainX, testX, trainy, testy = train_test_split(X, y, test_size=0.2, random_state=2, stratify=y)\n",
        "# trainX = np.array(trainX).reshape(-1, 1)\n",
        "# testX = np.array(testX).reshape(-1, 1)\n",
        "\n",
        "# fit a model\n",
        "# lg_model = LogisticRegression(solver='lbfgs')\n",
        "# lg_model.fit(trainX, trainy)\n",
        "\n",
        "# predict probabilities\n",
        "yhat = lg_model.predict_proba(X)\n",
        "# keep probabilities for the positive outcome only\n",
        "yhat = yhat[:, 1]\n",
        "\n",
        "# calculate roc curves\n",
        "fpr, tpr, _ = roc_curve(y, yhat)\n",
        "\n",
        "# plot the roc curve for the model\n",
        "pyplot.plot([0,1], [0,1], linestyle='--', label='No Skill')\n",
        "pyplot.plot(fpr, tpr, marker='.', label='Logistic')\n",
        "# axis labels\n",
        "pyplot.xlabel('False Positive Rate')\n",
        "pyplot.ylabel('True Positive Rate')\n",
        "pyplot.legend()\n",
        "# show the plot\n",
        "pyplot.show()"
      ]
    },
    {
      "cell_type": "code",
      "execution_count": null,
      "metadata": {
        "id": "GX0tNwRDI165"
      },
      "outputs": [],
      "source": [
        "# predict probabilities\n",
        "yhat = lg_model.predict_proba(X)\n",
        "# keep probabilities for the positive outcome only\n",
        "yhat = yhat[:, 1]\n",
        "\n",
        "y_predictions = yhat >= best_threshold\n",
        "y_predictions = [y.astype(int) for y in y_predictions]"
      ]
    },
    {
      "cell_type": "code",
      "execution_count": null,
      "metadata": {
        "colab": {
          "base_uri": "https://localhost:8080/"
        },
        "id": "8Q1Nq9x4I8ii",
        "outputId": "c505b738-e078-45df-b764-9a0621d443c1"
      },
      "outputs": [
        {
          "output_type": "execute_result",
          "data": {
            "text/plain": [
              "array([[303, 244],\n",
              "       [231, 274]])"
            ]
          },
          "metadata": {},
          "execution_count": 72
        }
      ],
      "source": [
        "confusion_matrix(y, y_predictions)"
      ]
    },
    {
      "cell_type": "code",
      "execution_count": null,
      "metadata": {
        "colab": {
          "base_uri": "https://localhost:8080/"
        },
        "id": "39O6o1tN0gmd",
        "outputId": "40a40848-fc7c-4d6c-8efd-f4d78df434fc"
      },
      "outputs": [
        {
          "output_type": "execute_result",
          "data": {
            "text/plain": [
              "0.5484790874524715"
            ]
          },
          "metadata": {},
          "execution_count": 73
        }
      ],
      "source": [
        "accuracy_score(y, y_predictions)"
      ]
    }
  ],
  "metadata": {
    "colab": {
      "provenance": []
    },
    "kernelspec": {
      "display_name": "Python 3 (ipykernel)",
      "language": "python",
      "name": "python3"
    },
    "language_info": {
      "codemirror_mode": {
        "name": "ipython",
        "version": 3
      },
      "file_extension": ".py",
      "mimetype": "text/x-python",
      "name": "python",
      "nbconvert_exporter": "python",
      "pygments_lexer": "ipython3",
      "version": "3.10.9"
    }
  },
  "nbformat": 4,
  "nbformat_minor": 0
}